{
 "cells": [
  {
   "cell_type": "markdown",
   "id": "c544fded-3b4f-4918-bddf-38df8cb0a97d",
   "metadata": {},
   "source": [
    "# Imaging Lunch: Introduction to PyTorch\n",
    "<img style=\"float: right;\" src=\"https://imaging.epfl.ch/resources/logo-for-gitlab.svg\">\n",
    "\n",
    "This notebook provides you with the basics you need to get started with PyTorch.\\\n",
    "It assumes that you are familiar with python and numpy and that you have a basic understanding of neural networks."
   ]
  },
  {
   "cell_type": "code",
   "execution_count": 1,
   "id": "5edcbf34",
   "metadata": {},
   "outputs": [],
   "source": [
    "import torch\n",
    "import numpy as np\n",
    "import matplotlib.pyplot as plt\n",
    "import torchvision\n",
    "import tqdm"
   ]
  },
  {
   "cell_type": "markdown",
   "id": "1368071b",
   "metadata": {},
   "source": [
    "Tensors\n",
    "=======\n",
    "\n",
    "Tensors are very similar to numpy arrays. In fact, the API is mostly consistent as you can see in the example below.\n",
    "However, they differ in two key parts:\n",
    "1. they can be used for computations on different types of processing units (e.g. CPU, GPU)\n",
    "2. tensors can keep track of the elements used to compute their value for auto differentiation"
   ]
  },
  {
   "cell_type": "code",
   "execution_count": 2,
   "id": "89841610",
   "metadata": {},
   "outputs": [
    {
     "name": "stdout",
     "output_type": "stream",
     "text": [
      "torch.Size([10, 5])\n",
      "torch.float32\n"
     ]
    },
    {
     "data": {
      "text/plain": [
       "tensor([[1., 1., 1., 1., 1.],\n",
       "        [1., 1., 1., 1., 1.],\n",
       "        [1., 1., 1., 1., 1.]])"
      ]
     },
     "execution_count": 2,
     "metadata": {},
     "output_type": "execute_result"
    }
   ],
   "source": [
    "my_tensor = torch.ones(10, 5)\n",
    "\n",
    "print(my_tensor.shape)\n",
    "print(my_tensor.dtype)\n",
    "\n",
    "my_tensor[3:6]"
   ]
  },
  {
   "cell_type": "markdown",
   "id": "d46fa5c3",
   "metadata": {},
   "source": [
    "## Devices\n",
    "\n",
    "One of the big differences between `numpy` and `pytorch` is, that `pytorch` can run computation on a GPU.\n",
    "Due to the amount and type of operations required for neural networks, a GPU is required for training and except for small networks even for inference.\n",
    "Since transfers between the CPU and GPU memory are slow, `pytorch` requires that we explicitely tell it when it should transfer the data."
   ]
  },
  {
   "cell_type": "code",
   "execution_count": 3,
   "id": "299224ee",
   "metadata": {},
   "outputs": [
    {
     "data": {
      "text/plain": [
       "device(type='cpu')"
      ]
     },
     "execution_count": 3,
     "metadata": {},
     "output_type": "execute_result"
    }
   ],
   "source": [
    "my_tensor.device"
   ]
  },
  {
   "cell_type": "code",
   "execution_count": 4,
   "id": "3ba2ab20",
   "metadata": {},
   "outputs": [
    {
     "data": {
      "text/plain": [
       "tensor([[1., 1., 1., 1., 1.],\n",
       "        [1., 1., 1., 1., 1.],\n",
       "        [1., 1., 1., 1., 1.],\n",
       "        [1., 1., 1., 1., 1.],\n",
       "        [1., 1., 1., 1., 1.],\n",
       "        [1., 1., 1., 1., 1.],\n",
       "        [1., 1., 1., 1., 1.],\n",
       "        [1., 1., 1., 1., 1.],\n",
       "        [1., 1., 1., 1., 1.],\n",
       "        [1., 1., 1., 1., 1.]], device='cuda:0')"
      ]
     },
     "execution_count": 4,
     "metadata": {},
     "output_type": "execute_result"
    }
   ],
   "source": [
    "device = torch.device(\"cuda:0\")\n",
    "my_tensor.to(device)"
   ]
  },
  {
   "cell_type": "markdown",
   "id": "bfd6de54",
   "metadata": {},
   "source": [
    "All of the tensors involved in a computation have to be on the same device. Usually, people define a device variable at the beginning of their code (like we did in the above example) that is used throughout. This makes it easy to switch between devices."
   ]
  },
  {
   "cell_type": "code",
   "execution_count": 5,
   "id": "510349e4",
   "metadata": {},
   "outputs": [
    {
     "ename": "RuntimeError",
     "evalue": "Expected all tensors to be on the same device, but found at least two devices, cuda:0 and cpu!",
     "output_type": "error",
     "traceback": [
      "\u001b[0;31m---------------------------------------------------------------------------\u001b[0m",
      "\u001b[0;31mRuntimeError\u001b[0m                              Traceback (most recent call last)",
      "Cell \u001b[0;32mIn[5], line 1\u001b[0m\n\u001b[0;32m----> 1\u001b[0m \u001b[43mmy_tensor\u001b[49m\u001b[38;5;241;43m.\u001b[39;49m\u001b[43mto\u001b[49m\u001b[43m(\u001b[49m\u001b[43mdevice\u001b[49m\u001b[43m)\u001b[49m\u001b[43m \u001b[49m\u001b[38;5;241;43m+\u001b[39;49m\u001b[43m \u001b[49m\u001b[43mtorch\u001b[49m\u001b[38;5;241;43m.\u001b[39;49m\u001b[43mones\u001b[49m\u001b[43m(\u001b[49m\u001b[38;5;241;43m10\u001b[39;49m\u001b[43m,\u001b[49m\u001b[43m \u001b[49m\u001b[38;5;241;43m5\u001b[39;49m\u001b[43m)\u001b[49m\n",
      "\u001b[0;31mRuntimeError\u001b[0m: Expected all tensors to be on the same device, but found at least two devices, cuda:0 and cpu!"
     ]
    }
   ],
   "source": [
    "my_tensor.to(device) + torch.ones(10, 5)"
   ]
  },
  {
   "cell_type": "markdown",
   "id": "2a1c6ade",
   "metadata": {},
   "source": [
    "## Automatic Differentiation"
   ]
  },
  {
   "cell_type": "markdown",
   "id": "a2d19aa5",
   "metadata": {},
   "source": [
    "Instead of neural network we can start with a simple (linear) equation with two parameters $a$ and $b$ as our model:\n",
    "\n",
    "\\begin{equation}\n",
    "f(x) = ax + b\n",
    "\\end{equation}\n",
    "\n",
    "We would like to fit this 'model' to some data:\n",
    "\n",
    "\\begin{equation}\n",
    "\\{y_i, x_i\\}_{i=0}^n\n",
    "\\end{equation}\n",
    "\n",
    "We can define the loss function which measures the fit as the sum of squares, i.e. the square of the $\\ell^2$-norm\n",
    "\n",
    "\\begin{equation}\n",
    "\\begin{split}\n",
    "\\text{loss} & = \\|\\mathbf{y} - f(\\mathbf{x})\\|_2^2 \\\\\n",
    "& = \\sum_{i=1}^{n}(y_i - f(x_i))^2 \\\\\n",
    "& = \\sum_{i=1}^{n}(y_i - ax_i - b)^2\n",
    "\\end{split}\n",
    "\\end{equation}\n",
    "\n",
    "The partial derivatives are:\n",
    "\n",
    "\\begin{equation}\n",
    "\\begin{split}\n",
    "\\frac{\\partial \\text{loss}}{\\partial a} & = \\sum_{i=1}^{n}2(y_i - a x_i - b)(-x_i) \\\\\n",
    "& = \\sum_{i=1}^{n}2(a x_i^2 + b x_i - y_i x_i)\n",
    "\\end{split}\n",
    "\\end{equation}\n",
    "\n",
    "\\begin{equation}\n",
    "\\frac{\\partial \\text{loss}}{\\partial b} = \\sum_{i=1}^{n}2(a x_i + b - y_i)\n",
    "\\end{equation}"
   ]
  },
  {
   "cell_type": "code",
   "execution_count": 6,
   "id": "9b040f99",
   "metadata": {},
   "outputs": [
    {
     "name": "stdout",
     "output_type": "stream",
     "text": [
      "tensor([-0.8000])\n",
      "tensor([-6.])\n",
      "tensor([True])\n",
      "tensor([True])\n"
     ]
    }
   ],
   "source": [
    "# Define some data points\n",
    "x = torch.tensor([-1., 0., 1.])\n",
    "y = torch.tensor([-0.2, 1, 2.2])\n",
    "\n",
    "a = torch.tensor([1.], requires_grad=True)\n",
    "b = torch.tensor([0.], requires_grad=True)\n",
    "\n",
    "loss = torch.sum((y - a * x - b) ** 2)\n",
    "# Note: normally one would use torch.nn.MSELoss(reduction='sum') but I am trying to be explicit here\n",
    "\n",
    "loss.backward()\n",
    "\n",
    "print(a.grad)\n",
    "print(b.grad)\n",
    "\n",
    "print(a.grad == 2 * torch.sum(a * x ** 2 + b * x - y * x))\n",
    "print(b.grad == 2 * torch.sum(a * x + b - y))"
   ]
  },
  {
   "cell_type": "code",
   "execution_count": 10,
   "id": "77e43c23",
   "metadata": {},
   "outputs": [
    {
     "data": {
      "image/svg+xml": [
       "<?xml version=\"1.0\" encoding=\"UTF-8\" standalone=\"no\"?>\n",
       "<!DOCTYPE svg PUBLIC \"-//W3C//DTD SVG 1.1//EN\"\n",
       " \"http://www.w3.org/Graphics/SVG/1.1/DTD/svg11.dtd\">\n",
       "<!-- Generated by graphviz version 2.43.0 (0)\n",
       " -->\n",
       "<!-- Title: %3 Pages: 1 -->\n",
       "<svg width=\"222pt\" height=\"446pt\"\n",
       " viewBox=\"0.00 0.00 222.00 446.00\" xmlns=\"http://www.w3.org/2000/svg\" xmlns:xlink=\"http://www.w3.org/1999/xlink\">\n",
       "<g id=\"graph0\" class=\"graph\" transform=\"scale(1 1) rotate(0) translate(4 442)\">\n",
       "<title>%3</title>\n",
       "<polygon fill=\"white\" stroke=\"transparent\" points=\"-4,4 -4,-442 218,-442 218,4 -4,4\"/>\n",
       "<!-- 133013926017408 -->\n",
       "<g id=\"node1\" class=\"node\">\n",
       "<title>133013926017408</title>\n",
       "<polygon fill=\"#caff70\" stroke=\"black\" points=\"133.5,-31 79.5,-31 79.5,0 133.5,0 133.5,-31\"/>\n",
       "<text text-anchor=\"middle\" x=\"106.5\" y=\"-7\" font-family=\"monospace\" font-size=\"10.00\"> ()</text>\n",
       "</g>\n",
       "<!-- 133013924984384 -->\n",
       "<g id=\"node2\" class=\"node\">\n",
       "<title>133013924984384</title>\n",
       "<polygon fill=\"lightgrey\" stroke=\"black\" points=\"151,-86 62,-86 62,-67 151,-67 151,-86\"/>\n",
       "<text text-anchor=\"middle\" x=\"106.5\" y=\"-74\" font-family=\"monospace\" font-size=\"10.00\">SumBackward0</text>\n",
       "</g>\n",
       "<!-- 133013924984384&#45;&gt;133013926017408 -->\n",
       "<g id=\"edge9\" class=\"edge\">\n",
       "<title>133013924984384&#45;&gt;133013926017408</title>\n",
       "<path fill=\"none\" stroke=\"black\" d=\"M106.5,-66.79C106.5,-60.07 106.5,-50.4 106.5,-41.34\"/>\n",
       "<polygon fill=\"black\" stroke=\"black\" points=\"110,-41.19 106.5,-31.19 103,-41.19 110,-41.19\"/>\n",
       "</g>\n",
       "<!-- 133013928153952 -->\n",
       "<g id=\"node3\" class=\"node\">\n",
       "<title>133013928153952</title>\n",
       "<polygon fill=\"lightgrey\" stroke=\"black\" points=\"151,-141 62,-141 62,-122 151,-122 151,-141\"/>\n",
       "<text text-anchor=\"middle\" x=\"106.5\" y=\"-129\" font-family=\"monospace\" font-size=\"10.00\">PowBackward0</text>\n",
       "</g>\n",
       "<!-- 133013928153952&#45;&gt;133013924984384 -->\n",
       "<g id=\"edge1\" class=\"edge\">\n",
       "<title>133013928153952&#45;&gt;133013924984384</title>\n",
       "<path fill=\"none\" stroke=\"black\" d=\"M106.5,-121.75C106.5,-114.8 106.5,-104.85 106.5,-96.13\"/>\n",
       "<polygon fill=\"black\" stroke=\"black\" points=\"110,-96.09 106.5,-86.09 103,-96.09 110,-96.09\"/>\n",
       "</g>\n",
       "<!-- 133013924984096 -->\n",
       "<g id=\"node4\" class=\"node\">\n",
       "<title>133013924984096</title>\n",
       "<polygon fill=\"lightgrey\" stroke=\"black\" points=\"151,-196 62,-196 62,-177 151,-177 151,-196\"/>\n",
       "<text text-anchor=\"middle\" x=\"106.5\" y=\"-184\" font-family=\"monospace\" font-size=\"10.00\">SubBackward0</text>\n",
       "</g>\n",
       "<!-- 133013924984096&#45;&gt;133013928153952 -->\n",
       "<g id=\"edge2\" class=\"edge\">\n",
       "<title>133013924984096&#45;&gt;133013928153952</title>\n",
       "<path fill=\"none\" stroke=\"black\" d=\"M106.5,-176.75C106.5,-169.8 106.5,-159.85 106.5,-151.13\"/>\n",
       "<polygon fill=\"black\" stroke=\"black\" points=\"110,-151.09 106.5,-141.09 103,-151.09 110,-151.09\"/>\n",
       "</g>\n",
       "<!-- 133013924984480 -->\n",
       "<g id=\"node5\" class=\"node\">\n",
       "<title>133013924984480</title>\n",
       "<polygon fill=\"lightgrey\" stroke=\"black\" points=\"95,-251 6,-251 6,-232 95,-232 95,-251\"/>\n",
       "<text text-anchor=\"middle\" x=\"50.5\" y=\"-239\" font-family=\"monospace\" font-size=\"10.00\">SubBackward0</text>\n",
       "</g>\n",
       "<!-- 133013924984480&#45;&gt;133013924984096 -->\n",
       "<g id=\"edge3\" class=\"edge\">\n",
       "<title>133013924984480&#45;&gt;133013924984096</title>\n",
       "<path fill=\"none\" stroke=\"black\" d=\"M59.5,-231.98C67.69,-224.23 80.01,-212.58 89.97,-203.14\"/>\n",
       "<polygon fill=\"black\" stroke=\"black\" points=\"92.48,-205.59 97.34,-196.17 87.67,-200.5 92.48,-205.59\"/>\n",
       "</g>\n",
       "<!-- 133013924983664 -->\n",
       "<g id=\"node6\" class=\"node\">\n",
       "<title>133013924983664</title>\n",
       "<polygon fill=\"lightgrey\" stroke=\"black\" points=\"95,-311.5 6,-311.5 6,-292.5 95,-292.5 95,-311.5\"/>\n",
       "<text text-anchor=\"middle\" x=\"50.5\" y=\"-299.5\" font-family=\"monospace\" font-size=\"10.00\">MulBackward0</text>\n",
       "</g>\n",
       "<!-- 133013924983664&#45;&gt;133013924984480 -->\n",
       "<g id=\"edge4\" class=\"edge\">\n",
       "<title>133013924983664&#45;&gt;133013924984480</title>\n",
       "<path fill=\"none\" stroke=\"black\" d=\"M50.5,-292.37C50.5,-284.25 50.5,-271.81 50.5,-261.39\"/>\n",
       "<polygon fill=\"black\" stroke=\"black\" points=\"54,-261.17 50.5,-251.17 47,-261.17 54,-261.17\"/>\n",
       "</g>\n",
       "<!-- 133013924984720 -->\n",
       "<g id=\"node7\" class=\"node\">\n",
       "<title>133013924984720</title>\n",
       "<polygon fill=\"lightgrey\" stroke=\"black\" points=\"101,-372 0,-372 0,-353 101,-353 101,-372\"/>\n",
       "<text text-anchor=\"middle\" x=\"50.5\" y=\"-360\" font-family=\"monospace\" font-size=\"10.00\">AccumulateGrad</text>\n",
       "</g>\n",
       "<!-- 133013924984720&#45;&gt;133013924983664 -->\n",
       "<g id=\"edge5\" class=\"edge\">\n",
       "<title>133013924984720&#45;&gt;133013924983664</title>\n",
       "<path fill=\"none\" stroke=\"black\" d=\"M50.5,-352.87C50.5,-344.75 50.5,-332.31 50.5,-321.89\"/>\n",
       "<polygon fill=\"black\" stroke=\"black\" points=\"54,-321.67 50.5,-311.67 47,-321.67 54,-321.67\"/>\n",
       "</g>\n",
       "<!-- 133013288543376 -->\n",
       "<g id=\"node8\" class=\"node\">\n",
       "<title>133013288543376</title>\n",
       "<polygon fill=\"lightblue\" stroke=\"black\" points=\"77.5,-438 23.5,-438 23.5,-408 77.5,-408 77.5,-438\"/>\n",
       "<text text-anchor=\"middle\" x=\"50.5\" y=\"-426\" font-family=\"monospace\" font-size=\"10.00\">a</text>\n",
       "<text text-anchor=\"middle\" x=\"50.5\" y=\"-415\" font-family=\"monospace\" font-size=\"10.00\"> (1)</text>\n",
       "</g>\n",
       "<!-- 133013288543376&#45;&gt;133013924984720 -->\n",
       "<g id=\"edge6\" class=\"edge\">\n",
       "<title>133013288543376&#45;&gt;133013924984720</title>\n",
       "<path fill=\"none\" stroke=\"black\" d=\"M50.5,-407.84C50.5,-400.21 50.5,-390.7 50.5,-382.45\"/>\n",
       "<polygon fill=\"black\" stroke=\"black\" points=\"54,-382.27 50.5,-372.27 47,-382.27 54,-382.27\"/>\n",
       "</g>\n",
       "<!-- 133013924983568 -->\n",
       "<g id=\"node9\" class=\"node\">\n",
       "<title>133013924983568</title>\n",
       "<polygon fill=\"lightgrey\" stroke=\"black\" points=\"214,-251 113,-251 113,-232 214,-232 214,-251\"/>\n",
       "<text text-anchor=\"middle\" x=\"163.5\" y=\"-239\" font-family=\"monospace\" font-size=\"10.00\">AccumulateGrad</text>\n",
       "</g>\n",
       "<!-- 133013924983568&#45;&gt;133013924984096 -->\n",
       "<g id=\"edge7\" class=\"edge\">\n",
       "<title>133013924983568&#45;&gt;133013924984096</title>\n",
       "<path fill=\"none\" stroke=\"black\" d=\"M154.34,-231.98C146,-224.23 133.47,-212.58 123.32,-203.14\"/>\n",
       "<polygon fill=\"black\" stroke=\"black\" points=\"125.53,-200.42 115.82,-196.17 120.76,-205.54 125.53,-200.42\"/>\n",
       "</g>\n",
       "<!-- 133013288543536 -->\n",
       "<g id=\"node10\" class=\"node\">\n",
       "<title>133013288543536</title>\n",
       "<polygon fill=\"lightblue\" stroke=\"black\" points=\"190.5,-317 136.5,-317 136.5,-287 190.5,-287 190.5,-317\"/>\n",
       "<text text-anchor=\"middle\" x=\"163.5\" y=\"-305\" font-family=\"monospace\" font-size=\"10.00\">b</text>\n",
       "<text text-anchor=\"middle\" x=\"163.5\" y=\"-294\" font-family=\"monospace\" font-size=\"10.00\"> (1)</text>\n",
       "</g>\n",
       "<!-- 133013288543536&#45;&gt;133013924983568 -->\n",
       "<g id=\"edge8\" class=\"edge\">\n",
       "<title>133013288543536&#45;&gt;133013924983568</title>\n",
       "<path fill=\"none\" stroke=\"black\" d=\"M163.5,-286.84C163.5,-279.21 163.5,-269.7 163.5,-261.45\"/>\n",
       "<polygon fill=\"black\" stroke=\"black\" points=\"167,-261.27 163.5,-251.27 160,-261.27 167,-261.27\"/>\n",
       "</g>\n",
       "</g>\n",
       "</svg>\n"
      ],
      "text/plain": [
       "<graphviz.graphs.Digraph at 0x78f9b7bfb4d0>"
      ]
     },
     "execution_count": 10,
     "metadata": {},
     "output_type": "execute_result"
    }
   ],
   "source": [
    "import torchviz\n",
    "torchviz.make_dot(loss, params={\"a\": a, \"b\": b})"
   ]
  },
  {
   "cell_type": "markdown",
   "id": "cc541614",
   "metadata": {},
   "source": [
    "Detaching\n",
    "---------\n",
    "\n",
    "In some cases, for example for plotting, we need to convert a pytorch tensor to a numpy array.\n",
    "Tensors that `require_grad` need to be explicitly detached before we can convert them to a numpy array.\n",
    "Otherwise, we encounter the following error:"
   ]
  },
  {
   "cell_type": "code",
   "execution_count": 11,
   "id": "e178d490",
   "metadata": {},
   "outputs": [
    {
     "ename": "RuntimeError",
     "evalue": "Can't call numpy() on Tensor that requires grad. Use tensor.detach().numpy() instead.",
     "output_type": "error",
     "traceback": [
      "\u001b[0;31m---------------------------------------------------------------------------\u001b[0m",
      "\u001b[0;31mRuntimeError\u001b[0m                              Traceback (most recent call last)",
      "Cell \u001b[0;32mIn[11], line 1\u001b[0m\n\u001b[0;32m----> 1\u001b[0m a \u001b[38;5;241m=\u001b[39m \u001b[43ma\u001b[49m\u001b[38;5;241;43m.\u001b[39;49m\u001b[43mnumpy\u001b[49m\u001b[43m(\u001b[49m\u001b[43m)\u001b[49m\n",
      "\u001b[0;31mRuntimeError\u001b[0m: Can't call numpy() on Tensor that requires grad. Use tensor.detach().numpy() instead."
     ]
    }
   ],
   "source": [
    "a = a.numpy()"
   ]
  },
  {
   "cell_type": "code",
   "execution_count": 12,
   "id": "f9b2b036",
   "metadata": {},
   "outputs": [],
   "source": [
    "a = a.detach().numpy()"
   ]
  },
  {
   "cell_type": "markdown",
   "id": "721342c9",
   "metadata": {},
   "source": [
    "Training a Neural Network\n",
    "=========================\n",
    "\n",
    "We will start by fine tuning an existing network using what we have just learned about autograd."
   ]
  },
  {
   "cell_type": "code",
   "execution_count": 13,
   "id": "5ed839b5",
   "metadata": {},
   "outputs": [],
   "source": [
    "class LeNet(torch.nn.Module):\n",
    "    def __init__(self):\n",
    "        super(LeNet, self).__init__()\n",
    "        self.conv1 = torch.nn.Conv2d(in_channels=1, out_channels=6, kernel_size=5, padding=2)\n",
    "        self.pool1 = torch.nn.AvgPool2d(kernel_size=2, stride=2)\n",
    "        self.conv2 = torch.nn.Conv2d(in_channels=6, out_channels=16, kernel_size=5)\n",
    "        self.pool2 = torch.nn.AvgPool2d(kernel_size=2, stride=2)\n",
    "        self.fc1 = torch.nn.Linear(16 * 5 * 5, 120)\n",
    "        self.fc2 = torch.nn.Linear(120, 84)\n",
    "        self.fc3 = torch.nn.Linear(84, 10)\n",
    "        self.activation_function = torch.nn.Sigmoid() \n",
    "\n",
    "    def forward(self, img):\n",
    "        res = self.conv1(img)\n",
    "        res = self.activation_function(res)\n",
    "        res = self.pool1(res)\n",
    "        res = self.conv2(res)\n",
    "        res = self.activation_function(res)\n",
    "        res = self.pool2(res)\n",
    "        res = torch.flatten(res, start_dim=1)\n",
    "        res = self.fc1(res)\n",
    "        res = self.activation_function(res)\n",
    "        res = self.fc2(res)\n",
    "        res = self.activation_function(res)\n",
    "        res = self.fc3(res)\n",
    "        return res"
   ]
  },
  {
   "cell_type": "code",
   "execution_count": 14,
   "id": "9c5b5872",
   "metadata": {},
   "outputs": [
    {
     "name": "stdout",
     "output_type": "stream",
     "text": [
      "LeNet(\n",
      "  (conv1): Conv2d(1, 6, kernel_size=(5, 5), stride=(1, 1), padding=(2, 2))\n",
      "  (pool1): AvgPool2d(kernel_size=2, stride=2, padding=0)\n",
      "  (conv2): Conv2d(6, 16, kernel_size=(5, 5), stride=(1, 1))\n",
      "  (pool2): AvgPool2d(kernel_size=2, stride=2, padding=0)\n",
      "  (fc1): Linear(in_features=400, out_features=120, bias=True)\n",
      "  (fc2): Linear(in_features=120, out_features=84, bias=True)\n",
      "  (fc3): Linear(in_features=84, out_features=10, bias=True)\n",
      "  (activation_function): Sigmoid()\n",
      ")\n"
     ]
    }
   ],
   "source": [
    "# Create an instance of the network\n",
    "model = LeNet()\n",
    "print(model)"
   ]
  },
  {
   "cell_type": "code",
   "execution_count": 15,
   "id": "fc0d9c6e",
   "metadata": {},
   "outputs": [
    {
     "name": "stdout",
     "output_type": "stream",
     "text": [
      "conv1.weight torch.Size([6, 1, 5, 5])\n",
      "conv1.bias torch.Size([6])\n",
      "conv2.weight torch.Size([16, 6, 5, 5])\n",
      "conv2.bias torch.Size([16])\n",
      "fc1.weight torch.Size([120, 400])\n",
      "fc1.bias torch.Size([120])\n",
      "fc2.weight torch.Size([84, 120])\n",
      "fc2.bias torch.Size([84])\n",
      "fc3.weight torch.Size([10, 84])\n",
      "fc3.bias torch.Size([10])\n",
      "\n",
      "Total number of parameters: 61706\n"
     ]
    }
   ],
   "source": [
    "for name, parameters in model.named_parameters():\n",
    "    print(name, parameters.size())\n",
    "    if \"weight\" in name:\n",
    "        torch.nn.init.xavier_normal_(parameters)\n",
    "        \n",
    "total_number_of_parameters = sum(p.numel() for p in model.parameters() if p.requires_grad)\n",
    "print(\"\\nTotal number of parameters:\", total_number_of_parameters)"
   ]
  },
  {
   "cell_type": "code",
   "execution_count": 16,
   "id": "3988eddf",
   "metadata": {},
   "outputs": [
    {
     "name": "stdout",
     "output_type": "stream",
     "text": [
      "Number of image in the train dataset 60000\n",
      "number of batches 3000\n",
      "\n",
      "Number of images in the test dataset 10000\n",
      "Number of batches 500\n"
     ]
    }
   ],
   "source": [
    "transform = torchvision.transforms.Compose([\n",
    "                torchvision.transforms.ToTensor(),\n",
    "                torchvision.transforms.Normalize(0.5, 0.5)\n",
    "            ])\n",
    "\n",
    "batch_size = 20\n",
    "\n",
    "train_dataset = torchvision.datasets.MNIST(root=\"./data\", train=True, download=True, transform=transform)\n",
    "print(\"Number of image in the train dataset\", len(train_dataset))\n",
    "train_dataloader = torch.utils.data.DataLoader(train_dataset, batch_size=batch_size, shuffle=True, num_workers=6)\n",
    "print(\"number of batches\", len(train_dataloader))\n",
    "\n",
    "test_dataset = torchvision.datasets.MNIST(root=\"./data\", train=False, download=True, transform=transform)\n",
    "print(\"\\nNumber of images in the test dataset\", len(test_dataset))\n",
    "test_dataloader = torch.utils.data.DataLoader(test_dataset, batch_size=batch_size, num_workers=6)\n",
    "print(\"Number of batches\", len(test_dataloader))"
   ]
  },
  {
   "cell_type": "code",
   "execution_count": 17,
   "id": "fcceb77b",
   "metadata": {
    "scrolled": true
   },
   "outputs": [
    {
     "data": {
      "image/png": "[encoded data removed]",
      "text/plain": [
       "<Figure size 640x480 with 20 Axes>"
      ]
     },
     "metadata": {},
     "output_type": "display_data"
    }
   ],
   "source": [
    "for data in train_dataloader:\n",
    "    imgs = data[0]\n",
    "    labels = data[1]\n",
    "    fig, axes = plt.subplots(1, len(imgs))\n",
    "    for i, img in enumerate(torch.squeeze(imgs)):\n",
    "        axes[i].imshow(img, cmap=\"gray\")\n",
    "        axes[i].set_xticks([], [])\n",
    "        axes[i].set_yticks([], [])\n",
    "        axes[i].set_xlabel(labels[i].item())\n",
    "    plt.show()\n",
    "    break"
   ]
  },
  {
   "cell_type": "code",
   "execution_count": 18,
   "id": "7ee1309a",
   "metadata": {},
   "outputs": [
    {
     "name": "stdout",
     "output_type": "stream",
     "text": [
      "Epoch 0\n"
     ]
    },
    {
     "name": "stderr",
     "output_type": "stream",
     "text": [
      "100%|████████████████████████████████████████████████████████████████████████████████████████████████████| 3000/3000 [00:06<00:00, 460.38it/s]\n"
     ]
    },
    {
     "name": "stdout",
     "output_type": "stream",
     "text": [
      "Loss 6943.829146623611\n",
      "Epoch 1\n"
     ]
    },
    {
     "name": "stderr",
     "output_type": "stream",
     "text": [
      "100%|████████████████████████████████████████████████████████████████████████████████████████████████████| 3000/3000 [00:06<00:00, 457.23it/s]\n"
     ]
    },
    {
     "name": "stdout",
     "output_type": "stream",
     "text": [
      "Loss 2290.9462823297363\n",
      "Epoch 2\n"
     ]
    },
    {
     "name": "stderr",
     "output_type": "stream",
     "text": [
      "100%|████████████████████████████████████████████████████████████████████████████████████████████████████| 3000/3000 [00:06<00:00, 443.08it/s]\n"
     ]
    },
    {
     "name": "stdout",
     "output_type": "stream",
     "text": [
      "Loss 277.70932203746634\n",
      "Epoch 3\n"
     ]
    },
    {
     "name": "stderr",
     "output_type": "stream",
     "text": [
      "100%|████████████████████████████████████████████████████████████████████████████████████████████████████| 3000/3000 [00:06<00:00, 455.82it/s]\n"
     ]
    },
    {
     "name": "stdout",
     "output_type": "stream",
     "text": [
      "Loss 196.831230383832\n",
      "Epoch 4\n"
     ]
    },
    {
     "name": "stderr",
     "output_type": "stream",
     "text": [
      "100%|████████████████████████████████████████████████████████████████████████████████████████████████████| 3000/3000 [00:06<00:00, 458.05it/s]\n"
     ]
    },
    {
     "name": "stdout",
     "output_type": "stream",
     "text": [
      "Loss 150.52365730013116\n",
      "Epoch 5\n"
     ]
    },
    {
     "name": "stderr",
     "output_type": "stream",
     "text": [
      "100%|████████████████████████████████████████████████████████████████████████████████████████████████████| 3000/3000 [00:06<00:00, 436.60it/s]\n"
     ]
    },
    {
     "name": "stdout",
     "output_type": "stream",
     "text": [
      "Loss 123.30021513922838\n",
      "Epoch 6\n"
     ]
    },
    {
     "name": "stderr",
     "output_type": "stream",
     "text": [
      "100%|████████████████████████████████████████████████████████████████████████████████████████████████████| 3000/3000 [00:06<00:00, 468.28it/s]\n"
     ]
    },
    {
     "name": "stdout",
     "output_type": "stream",
     "text": [
      "Loss 105.9687583890045\n",
      "Epoch 7\n"
     ]
    },
    {
     "name": "stderr",
     "output_type": "stream",
     "text": [
      "100%|████████████████████████████████████████████████████████████████████████████████████████████████████| 3000/3000 [00:07<00:00, 416.48it/s]\n"
     ]
    },
    {
     "name": "stdout",
     "output_type": "stream",
     "text": [
      "Loss 93.88769501780916\n",
      "Epoch 8\n"
     ]
    },
    {
     "name": "stderr",
     "output_type": "stream",
     "text": [
      "100%|████████████████████████████████████████████████████████████████████████████████████████████████████| 3000/3000 [00:06<00:00, 445.96it/s]\n"
     ]
    },
    {
     "name": "stdout",
     "output_type": "stream",
     "text": [
      "Loss 83.70820823535905\n",
      "Epoch 9\n"
     ]
    },
    {
     "name": "stderr",
     "output_type": "stream",
     "text": [
      "100%|████████████████████████████████████████████████████████████████████████████████████████████████████| 3000/3000 [00:06<00:00, 440.07it/s]\n"
     ]
    },
    {
     "name": "stdout",
     "output_type": "stream",
     "text": [
      "Loss 68.48673745198903\n",
      "Epoch 10\n"
     ]
    },
    {
     "name": "stderr",
     "output_type": "stream",
     "text": [
      "100%|████████████████████████████████████████████████████████████████████████████████████████████████████| 3000/3000 [00:06<00:00, 431.34it/s]\n"
     ]
    },
    {
     "name": "stdout",
     "output_type": "stream",
     "text": [
      "Loss 64.05008694522257\n",
      "Epoch 11\n"
     ]
    },
    {
     "name": "stderr",
     "output_type": "stream",
     "text": [
      "100%|████████████████████████████████████████████████████████████████████████████████████████████████████| 3000/3000 [00:06<00:00, 463.73it/s]\n"
     ]
    },
    {
     "name": "stdout",
     "output_type": "stream",
     "text": [
      "Loss 54.7361429844932\n",
      "Epoch 12\n"
     ]
    },
    {
     "name": "stderr",
     "output_type": "stream",
     "text": [
      "100%|████████████████████████████████████████████████████████████████████████████████████████████████████| 3000/3000 [00:06<00:00, 438.70it/s]\n"
     ]
    },
    {
     "name": "stdout",
     "output_type": "stream",
     "text": [
      "Loss 47.87388571829979\n",
      "Epoch 13\n"
     ]
    },
    {
     "name": "stderr",
     "output_type": "stream",
     "text": [
      "100%|████████████████████████████████████████████████████████████████████████████████████████████████████| 3000/3000 [00:06<00:00, 448.34it/s]\n"
     ]
    },
    {
     "name": "stdout",
     "output_type": "stream",
     "text": [
      "Loss 40.55168384369972\n",
      "Epoch 14\n"
     ]
    },
    {
     "name": "stderr",
     "output_type": "stream",
     "text": [
      "100%|████████████████████████████████████████████████████████████████████████████████████████████████████| 3000/3000 [00:06<00:00, 447.40it/s]\n"
     ]
    },
    {
     "name": "stdout",
     "output_type": "stream",
     "text": [
      "Loss 34.737438329844736\n",
      "Epoch 15\n"
     ]
    },
    {
     "name": "stderr",
     "output_type": "stream",
     "text": [
      "100%|████████████████████████████████████████████████████████████████████████████████████████████████████| 3000/3000 [00:06<00:00, 445.14it/s]\n"
     ]
    },
    {
     "name": "stdout",
     "output_type": "stream",
     "text": [
      "Loss 28.29709634838673\n",
      "Epoch 16\n"
     ]
    },
    {
     "name": "stderr",
     "output_type": "stream",
     "text": [
      "100%|████████████████████████████████████████████████████████████████████████████████████████████████████| 3000/3000 [00:06<00:00, 444.44it/s]\n"
     ]
    },
    {
     "name": "stdout",
     "output_type": "stream",
     "text": [
      "Loss 28.236352928126507\n",
      "Epoch 17\n"
     ]
    },
    {
     "name": "stderr",
     "output_type": "stream",
     "text": [
      "100%|████████████████████████████████████████████████████████████████████████████████████████████████████| 3000/3000 [00:06<00:00, 450.26it/s]\n"
     ]
    },
    {
     "name": "stdout",
     "output_type": "stream",
     "text": [
      "Loss 26.71540707363374\n",
      "Epoch 18\n"
     ]
    },
    {
     "name": "stderr",
     "output_type": "stream",
     "text": [
      "100%|████████████████████████████████████████████████████████████████████████████████████████████████████| 3000/3000 [00:06<00:00, 444.76it/s]\n"
     ]
    },
    {
     "name": "stdout",
     "output_type": "stream",
     "text": [
      "Loss 20.633446716975413\n",
      "Epoch 19\n"
     ]
    },
    {
     "name": "stderr",
     "output_type": "stream",
     "text": [
      "100%|████████████████████████████████████████████████████████████████████████████████████████████████████| 3000/3000 [00:06<00:00, 451.60it/s]"
     ]
    },
    {
     "name": "stdout",
     "output_type": "stream",
     "text": [
      "Loss 16.1022079487675\n"
     ]
    },
    {
     "name": "stderr",
     "output_type": "stream",
     "text": [
      "\n"
     ]
    }
   ],
   "source": [
    "# The optimizer defines how we update the parameters\n",
    "optimizer = torch.optim.SGD(model.parameters(), lr=0.1, momentum=0.9)\n",
    "\n",
    "loss_function = torch.nn.CrossEntropyLoss()\n",
    "\n",
    "# Move the model to the device (CPU or GPU)\n",
    "model.to(device)\n",
    "\n",
    "running_losses = []\n",
    "\n",
    "# The training loop\n",
    "for epoch in range(20):\n",
    "    print(f\"Epoch {epoch}\")\n",
    "    running_loss = 0\n",
    "    for data in tqdm.tqdm(train_dataloader):\n",
    "        imgs = data[0].to(device)\n",
    "        labels = data[1].to(device)\n",
    "        # Reset the gradients\n",
    "        optimizer.zero_grad()\n",
    "        # Forward run through the network\n",
    "        output = model(imgs)\n",
    "        # Compute the loss\n",
    "        loss = loss_function(output, labels)\n",
    "        # Update the gradients\n",
    "        loss.backward()\n",
    "        # Update the parameters of the network\n",
    "        optimizer.step()\n",
    "\n",
    "        running_loss += loss.item()\n",
    "    running_losses.append(running_loss)\n",
    "    print(\"Loss\", running_loss)"
   ]
  },
  {
   "cell_type": "code",
   "execution_count": 19,
   "id": "f18c9533",
   "metadata": {},
   "outputs": [
    {
     "data": {
      "image/png": "[encoded data removed]",
      "text/plain": [
       "<Figure size 640x480 with 1 Axes>"
      ]
     },
     "metadata": {},
     "output_type": "display_data"
    }
   ],
   "source": [
    "plt.plot(running_losses)\n",
    "plt.yscale(\"log\")\n",
    "plt.xlabel(\"Epoch\")\n",
    "plt.ylabel(\"Loss\")\n",
    "plt.show()"
   ]
  },
  {
   "cell_type": "markdown",
   "id": "e95964ab",
   "metadata": {},
   "source": [
    "Test the trained model\n",
    "----------------------"
   ]
  },
  {
   "cell_type": "code",
   "execution_count": 20,
   "id": "ff070f27",
   "metadata": {},
   "outputs": [
    {
     "name": "stderr",
     "output_type": "stream",
     "text": [
      "100%|██████████████████████████████████████████████████████████████████████████████████████████████████████| 500/500 [00:00<00:00, 736.12it/s]"
     ]
    },
    {
     "name": "stdout",
     "output_type": "stream",
     "text": [
      "Correctly classified numbers in test dataset: 99.00999999999999%\n"
     ]
    },
    {
     "name": "stderr",
     "output_type": "stream",
     "text": [
      "\n"
     ]
    }
   ],
   "source": [
    "model.eval()\n",
    "\n",
    "n_correct = 0 \n",
    "for data in tqdm.tqdm(test_dataloader):\n",
    "    imgs = data[0].to(device)\n",
    "    labels = data[1].to(device)\n",
    "    output = model(imgs)\n",
    "    correct_labels = labels == output.max(dim=1).indices\n",
    "    # print(correct_labels)\n",
    "    # print(torch.sum(correct_labels))\n",
    "    n_correct += torch.sum(correct_labels).item()\n",
    "    \n",
    "print(f\"Correctly classified numbers in test dataset: {n_correct / len(test_dataset) * 100}%\")"
   ]
  },
  {
   "cell_type": "markdown",
   "id": "e8612fae",
   "metadata": {},
   "source": [
    "Saving a trained model\n",
    "----------------------\n",
    "\n",
    "The easiest way to save the result of your training is by saving the so called state dictionary. This contains the model parameters. However, it is important to realize that we need the model class in addition to the saved state dict to load the model."
   ]
  },
  {
   "cell_type": "code",
   "execution_count": 21,
   "id": "f3a527e6",
   "metadata": {},
   "outputs": [
    {
     "data": {
      "text/plain": [
       "<All keys matched successfully>"
      ]
     },
     "execution_count": 21,
     "metadata": {},
     "output_type": "execute_result"
    }
   ],
   "source": [
    "# Saving model weights\n",
    "torch.save(model.state_dict(), \"./model_weights.pth\")\n",
    "\n",
    "# Loading model weights\n",
    "new_model = LeNet()\n",
    "new_model.load_state_dict(torch.load(\"./model_weights.pth\"))"
   ]
  },
  {
   "cell_type": "markdown",
   "id": "f57f9997-2169-4b48-a8fd-fbafd9dd364e",
   "metadata": {},
   "source": [
    "Alternatively, you could use the onnx format which save all the relevant information to load the model. In fact it even allows you to execute the model in a different programming language, such as C++."
   ]
  },
  {
   "cell_type": "code",
   "execution_count": 22,
   "id": "f1ec57a3",
   "metadata": {},
   "outputs": [
    {
     "data": {
      "image/png": "[encoded data removed]",
      "text/plain": [
       "<Figure size 640x480 with 6 Axes>"
      ]
     },
     "metadata": {},
     "output_type": "display_data"
    }
   ],
   "source": [
    "kernels = model.conv1.weight.detach().cpu()\n",
    "fig, axes = plt.subplots(1, len(kernels))\n",
    "for i in range(len(kernels)):\n",
    "    axes[i].imshow(kernels[i, 0], cmap=\"gray\")\n",
    "    axes[i].set_xticks([], [])\n",
    "    axes[i].set_yticks([], [])\n",
    "plt.show()"
   ]
  },
  {
   "cell_type": "markdown",
   "id": "a2b5f4b3",
   "metadata": {},
   "source": [
    "Transfer learning\n",
    "-----------------"
   ]
  },
  {
   "cell_type": "code",
   "execution_count": 23,
   "id": "bf1e158a",
   "metadata": {},
   "outputs": [
    {
     "name": "stdout",
     "output_type": "stream",
     "text": [
      "ResNet(\n",
      "  (conv1): Conv2d(3, 64, kernel_size=(7, 7), stride=(2, 2), padding=(3, 3), bias=False)\n",
      "  (bn1): BatchNorm2d(64, eps=1e-05, momentum=0.1, affine=True, track_running_stats=True)\n",
      "  (relu): ReLU(inplace=True)\n",
      "  (maxpool): MaxPool2d(kernel_size=3, stride=2, padding=1, dilation=1, ceil_mode=False)\n",
      "  (layer1): Sequential(\n",
      "    (0): BasicBlock(\n",
      "      (conv1): Conv2d(64, 64, kernel_size=(3, 3), stride=(1, 1), padding=(1, 1), bias=False)\n",
      "      (bn1): BatchNorm2d(64, eps=1e-05, momentum=0.1, affine=True, track_running_stats=True)\n",
      "      (relu): ReLU(inplace=True)\n",
      "      (conv2): Conv2d(64, 64, kernel_size=(3, 3), stride=(1, 1), padding=(1, 1), bias=False)\n",
      "      (bn2): BatchNorm2d(64, eps=1e-05, momentum=0.1, affine=True, track_running_stats=True)\n",
      "    )\n",
      "    (1): BasicBlock(\n",
      "      (conv1): Conv2d(64, 64, kernel_size=(3, 3), stride=(1, 1), padding=(1, 1), bias=False)\n",
      "      (bn1): BatchNorm2d(64, eps=1e-05, momentum=0.1, affine=True, track_running_stats=True)\n",
      "      (relu): ReLU(inplace=True)\n",
      "      (conv2): Conv2d(64, 64, kernel_size=(3, 3), stride=(1, 1), padding=(1, 1), bias=False)\n",
      "      (bn2): BatchNorm2d(64, eps=1e-05, momentum=0.1, affine=True, track_running_stats=True)\n",
      "    )\n",
      "  )\n",
      "  (layer2): Sequential(\n",
      "    (0): BasicBlock(\n",
      "      (conv1): Conv2d(64, 128, kernel_size=(3, 3), stride=(2, 2), padding=(1, 1), bias=False)\n",
      "      (bn1): BatchNorm2d(128, eps=1e-05, momentum=0.1, affine=True, track_running_stats=True)\n",
      "      (relu): ReLU(inplace=True)\n",
      "      (conv2): Conv2d(128, 128, kernel_size=(3, 3), stride=(1, 1), padding=(1, 1), bias=False)\n",
      "      (bn2): BatchNorm2d(128, eps=1e-05, momentum=0.1, affine=True, track_running_stats=True)\n",
      "      (downsample): Sequential(\n",
      "        (0): Conv2d(64, 128, kernel_size=(1, 1), stride=(2, 2), bias=False)\n",
      "        (1): BatchNorm2d(128, eps=1e-05, momentum=0.1, affine=True, track_running_stats=True)\n",
      "      )\n",
      "    )\n",
      "    (1): BasicBlock(\n",
      "      (conv1): Conv2d(128, 128, kernel_size=(3, 3), stride=(1, 1), padding=(1, 1), bias=False)\n",
      "      (bn1): BatchNorm2d(128, eps=1e-05, momentum=0.1, affine=True, track_running_stats=True)\n",
      "      (relu): ReLU(inplace=True)\n",
      "      (conv2): Conv2d(128, 128, kernel_size=(3, 3), stride=(1, 1), padding=(1, 1), bias=False)\n",
      "      (bn2): BatchNorm2d(128, eps=1e-05, momentum=0.1, affine=True, track_running_stats=True)\n",
      "    )\n",
      "  )\n",
      "  (layer3): Sequential(\n",
      "    (0): BasicBlock(\n",
      "      (conv1): Conv2d(128, 256, kernel_size=(3, 3), stride=(2, 2), padding=(1, 1), bias=False)\n",
      "      (bn1): BatchNorm2d(256, eps=1e-05, momentum=0.1, affine=True, track_running_stats=True)\n",
      "      (relu): ReLU(inplace=True)\n",
      "      (conv2): Conv2d(256, 256, kernel_size=(3, 3), stride=(1, 1), padding=(1, 1), bias=False)\n",
      "      (bn2): BatchNorm2d(256, eps=1e-05, momentum=0.1, affine=True, track_running_stats=True)\n",
      "      (downsample): Sequential(\n",
      "        (0): Conv2d(128, 256, kernel_size=(1, 1), stride=(2, 2), bias=False)\n",
      "        (1): BatchNorm2d(256, eps=1e-05, momentum=0.1, affine=True, track_running_stats=True)\n",
      "      )\n",
      "    )\n",
      "    (1): BasicBlock(\n",
      "      (conv1): Conv2d(256, 256, kernel_size=(3, 3), stride=(1, 1), padding=(1, 1), bias=False)\n",
      "      (bn1): BatchNorm2d(256, eps=1e-05, momentum=0.1, affine=True, track_running_stats=True)\n",
      "      (relu): ReLU(inplace=True)\n",
      "      (conv2): Conv2d(256, 256, kernel_size=(3, 3), stride=(1, 1), padding=(1, 1), bias=False)\n",
      "      (bn2): BatchNorm2d(256, eps=1e-05, momentum=0.1, affine=True, track_running_stats=True)\n",
      "    )\n",
      "  )\n",
      "  (layer4): Sequential(\n",
      "    (0): BasicBlock(\n",
      "      (conv1): Conv2d(256, 512, kernel_size=(3, 3), stride=(2, 2), padding=(1, 1), bias=False)\n",
      "      (bn1): BatchNorm2d(512, eps=1e-05, momentum=0.1, affine=True, track_running_stats=True)\n",
      "      (relu): ReLU(inplace=True)\n",
      "      (conv2): Conv2d(512, 512, kernel_size=(3, 3), stride=(1, 1), padding=(1, 1), bias=False)\n",
      "      (bn2): BatchNorm2d(512, eps=1e-05, momentum=0.1, affine=True, track_running_stats=True)\n",
      "      (downsample): Sequential(\n",
      "        (0): Conv2d(256, 512, kernel_size=(1, 1), stride=(2, 2), bias=False)\n",
      "        (1): BatchNorm2d(512, eps=1e-05, momentum=0.1, affine=True, track_running_stats=True)\n",
      "      )\n",
      "    )\n",
      "    (1): BasicBlock(\n",
      "      (conv1): Conv2d(512, 512, kernel_size=(3, 3), stride=(1, 1), padding=(1, 1), bias=False)\n",
      "      (bn1): BatchNorm2d(512, eps=1e-05, momentum=0.1, affine=True, track_running_stats=True)\n",
      "      (relu): ReLU(inplace=True)\n",
      "      (conv2): Conv2d(512, 512, kernel_size=(3, 3), stride=(1, 1), padding=(1, 1), bias=False)\n",
      "      (bn2): BatchNorm2d(512, eps=1e-05, momentum=0.1, affine=True, track_running_stats=True)\n",
      "    )\n",
      "  )\n",
      "  (avgpool): AdaptiveAvgPool2d(output_size=(1, 1))\n",
      "  (fc): Linear(in_features=512, out_features=1000, bias=True)\n",
      ")\n"
     ]
    }
   ],
   "source": [
    "model = torchvision.models.resnet18(weights=torchvision.models.ResNet18_Weights.DEFAULT)\n",
    "\n",
    "print(model)\n",
    "\n",
    "# Freeze all the parameters in the network\n",
    "for param in model.parameters():\n",
    "    param.requires_grad = False"
   ]
  },
  {
   "cell_type": "code",
   "execution_count": 25,
   "id": "f92b1ac8",
   "metadata": {},
   "outputs": [
    {
     "name": "stdout",
     "output_type": "stream",
     "text": [
      "\n",
      "Total number of parameters: 11689512\n",
      "\n",
      "Total number of trainable parameters: 0\n",
      "\n",
      "Total number of trainable parameters: 5130\n"
     ]
    }
   ],
   "source": [
    "total_number_of_parameters = sum(p.numel() for p in model.parameters())\n",
    "print(\"\\nTotal number of parameters:\", total_number_of_parameters)\n",
    "\n",
    "total_number_of_parameters = sum(p.numel() for p in model.parameters() if p.requires_grad)\n",
    "print(\"\\nTotal number of trainable parameters:\", total_number_of_parameters)\n",
    "\n",
    "# Replace the classifier (fully connected layer) for our task (10 instead of 1000 classes)\n",
    "model.fc = torch.nn.Linear(512, 10)\n",
    "torch.nn.init.xavier_normal_(model.fc.weight)\n",
    "\n",
    "total_number_of_parameters = sum(p.numel() for p in model.parameters() if p.requires_grad)\n",
    "print(\"\\nTotal number of trainable parameters:\", total_number_of_parameters)"
   ]
  },
  {
   "cell_type": "code",
   "execution_count": 27,
   "id": "854ebe0b",
   "metadata": {},
   "outputs": [
    {
     "name": "stdout",
     "output_type": "stream",
     "text": [
      "\n",
      "Number of images in the train dataset 50000\n",
      "Number of batches 250\n",
      "\n",
      "Number of images in the test dataset 10000\n",
      "Number of batches 50\n"
     ]
    }
   ],
   "source": [
    "transform = torchvision.models.ResNet18_Weights.DEFAULT.transforms()\n",
    "# transform = torchvision.transforms.ToTensor()\n",
    "\n",
    "batch_size = 200\n",
    "\n",
    "train_dataset = torchvision.datasets.CIFAR10(root='./data', train=True,\n",
    "                                        download=True, transform=transform)\n",
    "print(\"\\nNumber of images in the train dataset\", len(train_dataset))\n",
    "train_dataloader = torch.utils.data.DataLoader(train_dataset, batch_size=batch_size,\n",
    "                                          shuffle=True, num_workers=8)\n",
    "print(\"Number of batches\", len(train_dataloader))\n",
    "\n",
    "test_dataset = torchvision.datasets.CIFAR10(root='./data', train=False,\n",
    "                                       download=True, transform=transform)\n",
    "print(\"\\nNumber of images in the test dataset\", len(test_dataset))\n",
    "test_dataloader = torch.utils.data.DataLoader(test_dataset, batch_size=batch_size,\n",
    "                                         shuffle=False, num_workers=8)\n",
    "print(\"Number of batches\", len(test_dataloader))\n",
    "\n",
    "classes = ('plane', 'car', 'bird', 'cat',\n",
    "           'deer', 'dog', 'frog', 'horse', 'ship', 'truck')"
   ]
  },
  {
   "cell_type": "code",
   "execution_count": 28,
   "id": "ecf6e07d",
   "metadata": {},
   "outputs": [
    {
     "name": "stderr",
     "output_type": "stream",
     "text": [
      "Clipping input data to the valid range for imshow with RGB data ([0..1] for floats or [0..255] for integers). Got range [-1.8431373..2.64].\n",
      "Clipping input data to the valid range for imshow with RGB data ([0..1] for floats or [0..255] for integers). Got range [-1.8952821..2.0784314].\n",
      "Clipping input data to the valid range for imshow with RGB data ([0..1] for floats or [0..255] for integers). Got range [-1.6301525..1.8036647].\n",
      "Clipping input data to the valid range for imshow with RGB data ([0..1] for floats or [0..255] for integers). Got range [-1.5604358..2.2184873].\n",
      "Clipping input data to the valid range for imshow with RGB data ([0..1] for floats or [0..255] for integers). Got range [-1.7925336..2.535425].\n",
      "Clipping input data to the valid range for imshow with RGB data ([0..1] for floats or [0..255] for integers). Got range [-2.0836544..2.1519828].\n",
      "Clipping input data to the valid range for imshow with RGB data ([0..1] for floats or [0..255] for integers). Got range [-1.5280112..2.186841].\n",
      "Clipping input data to the valid range for imshow with RGB data ([0..1] for floats or [0..255] for integers). Got range [-2.1007793..2.64].\n",
      "Clipping input data to the valid range for imshow with RGB data ([0..1] for floats or [0..255] for integers). Got range [-1.3644148..1.6639653].\n",
      "Clipping input data to the valid range for imshow with RGB data ([0..1] for floats or [0..255] for integers). Got range [-1.7754089..1.8033988].\n"
     ]
    },
    {
     "data": {
      "image/png": "[encoded data removed]",
      "text/plain": [
       "<Figure size 640x480 with 10 Axes>"
      ]
     },
     "metadata": {},
     "output_type": "display_data"
    }
   ],
   "source": [
    "for data in train_dataloader:\n",
    "    imgs = data[0]\n",
    "    labels = data[1]\n",
    "    n_images = min(10, len(imgs))\n",
    "    fig, axes = plt.subplots(1, n_images)\n",
    "    for i, img in enumerate(torch.squeeze(imgs)[:n_images]):\n",
    "        axes[i].imshow(img.moveaxis(0,2))\n",
    "        axes[i].set_xticks([], [])\n",
    "        axes[i].set_yticks([], [])\n",
    "        axes[i].set_xlabel(classes[labels[i].item()])\n",
    "    plt.show()\n",
    "    break"
   ]
  },
  {
   "cell_type": "code",
   "execution_count": 29,
   "id": "42ea1a6b",
   "metadata": {},
   "outputs": [
    {
     "name": "stdout",
     "output_type": "stream",
     "text": [
      "Epoch 0\n"
     ]
    },
    {
     "name": "stderr",
     "output_type": "stream",
     "text": [
      "100%|███████████████████████████████████████████████████████████████████████████████████████████████████████| 250/250 [01:08<00:00,  3.63it/s]\n"
     ]
    },
    {
     "name": "stdout",
     "output_type": "stream",
     "text": [
      "Loss 232.16638678312302\n",
      "Epoch 1\n"
     ]
    },
    {
     "name": "stderr",
     "output_type": "stream",
     "text": [
      "100%|███████████████████████████████████████████████████████████████████████████████████████████████████████| 250/250 [01:10<00:00,  3.55it/s]\n"
     ]
    },
    {
     "name": "stdout",
     "output_type": "stream",
     "text": [
      "Loss 171.07721629738808\n",
      "Epoch 2\n"
     ]
    },
    {
     "name": "stderr",
     "output_type": "stream",
     "text": [
      "100%|███████████████████████████████████████████████████████████████████████████████████████████████████████| 250/250 [01:17<00:00,  3.24it/s]\n"
     ]
    },
    {
     "name": "stdout",
     "output_type": "stream",
     "text": [
      "Loss 162.10946601629257\n",
      "Epoch 3\n"
     ]
    },
    {
     "name": "stderr",
     "output_type": "stream",
     "text": [
      "100%|███████████████████████████████████████████████████████████████████████████████████████████████████████| 250/250 [01:10<00:00,  3.56it/s]\n"
     ]
    },
    {
     "name": "stdout",
     "output_type": "stream",
     "text": [
      "Loss 158.92664086818695\n",
      "Epoch 4\n"
     ]
    },
    {
     "name": "stderr",
     "output_type": "stream",
     "text": [
      "100%|███████████████████████████████████████████████████████████████████████████████████████████████████████| 250/250 [01:11<00:00,  3.49it/s]"
     ]
    },
    {
     "name": "stdout",
     "output_type": "stream",
     "text": [
      "Loss 155.8007743358612\n"
     ]
    },
    {
     "name": "stderr",
     "output_type": "stream",
     "text": [
      "\n"
     ]
    }
   ],
   "source": [
    "# Optimize only the classifier\n",
    "optimizer = torch.optim.SGD(model.parameters(), lr=1e-2, momentum=0.9)\n",
    "\n",
    "# Move the model to the device (CPU or GPU)\n",
    "model.to(device)\n",
    "\n",
    "loss_function = torch.nn.CrossEntropyLoss()\n",
    "running_losses = []\n",
    "\n",
    "# The training loop\n",
    "for epoch in range(5):\n",
    "    print(f\"Epoch {epoch}\")\n",
    "    running_loss = 0\n",
    "    for data in tqdm.tqdm(train_dataloader):\n",
    "        imgs = data[0].to(device)\n",
    "        labels = data[1].to(device)\n",
    "        # Reset the gradients\n",
    "        optimizer.zero_grad()\n",
    "        # Forward run throught the network\n",
    "        output = model(imgs)\n",
    "        # Compute the loss\n",
    "        loss = loss_function(output, labels)\n",
    "        # Update the gradients\n",
    "        loss.backward()\n",
    "        # Update the parameters of the network\n",
    "        optimizer.step()\n",
    "\n",
    "        running_loss += loss.item()\n",
    "    running_losses.append(running_loss)\n",
    "    print(\"Loss\", running_loss)"
   ]
  },
  {
   "cell_type": "code",
   "execution_count": 30,
   "id": "83898620",
   "metadata": {},
   "outputs": [
    {
     "data": {
      "image/png": "[encoded data removed]",
      "text/plain": [
       "<Figure size 640x480 with 1 Axes>"
      ]
     },
     "metadata": {},
     "output_type": "display_data"
    }
   ],
   "source": [
    "plt.plot(running_losses)\n",
    "plt.yscale(\"log\")\n",
    "plt.xlabel(\"Epoch\")\n",
    "plt.ylabel(\"Loss\")\n",
    "plt.show()"
   ]
  },
  {
   "cell_type": "code",
   "execution_count": null,
   "id": "01ba4659",
   "metadata": {},
   "outputs": [],
   "source": [
    "model.eval()\n",
    "device = torch.device(\"cuda:0\")\n",
    "model.to(device)\n",
    "n_correct = 0 \n",
    "for data in tqdm.tqdm(test_dataloader):\n",
    "    imgs = data[0].to(device)\n",
    "    labels = data[1].to(device)\n",
    "    output = model(imgs)\n",
    "    correct_labels = labels == output.max(dim=1).indices\n",
    "    # print(correct_labels)\n",
    "    # print(torch.sum(correct_labels))\n",
    "    n_correct += torch.sum(correct_labels).item()\n",
    "    \n",
    "print(f\"Correctly classified numbers in test dataset: {n_correct / len(test_dataset) * 100}%\")"
   ]
  },
  {
   "cell_type": "code",
   "execution_count": null,
   "id": "25570487",
   "metadata": {},
   "outputs": [],
   "source": []
  }
 ],
 "metadata": {
  "kernelspec": {
   "display_name": "Python 3 (ipykernel)",
   "language": "python",
   "name": "python3"
  },
  "language_info": {
   "codemirror_mode": {
    "name": "ipython",
    "version": 3
   },
   "file_extension": ".py",
   "mimetype": "text/x-python",
   "name": "python",
   "nbconvert_exporter": "python",
   "pygments_lexer": "ipython3",
   "version": "3.12.3"
  }
 },
 "nbformat": 4,
 "nbformat_minor": 5
}

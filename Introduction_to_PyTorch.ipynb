{
 "cells": [
  {
   "cell_type": "markdown",
   "id": "c544fded-3b4f-4918-bddf-38df8cb0a97d",
   "metadata": {},
   "source": [
    "# Imaging Lunch: Introduction to PyTorch\n",
    "<img style=\"float: right;\" src=\"https://imaging.epfl.ch/resources/logo-for-gitlab.svg\">\n",
    "\n",
    "This notebook provides you with the basics you need to get started with PyTorch.\\\n",
    "It assumes that you are familiar with python and numpy and that you have a basic understanding of neural networks."
   ]
  },
  {
   "cell_type": "code",
   "execution_count": 1,
   "id": "5edcbf34",
   "metadata": {},
   "outputs": [],
   "source": [
    "import torch\n",
    "import numpy as np\n",
    "import matplotlib.pyplot as plt\n",
    "import torchvision\n",
    "import tqdm"
   ]
  },
  {
   "cell_type": "markdown",
   "id": "1368071b",
   "metadata": {},
   "source": [
    "# Tensors"
   ]
  },
  {
   "cell_type": "markdown",
   "id": "8bcd8acf-6795-467f-b95e-0bc930720b12",
   "metadata": {},
   "source": [
    "Tensors are very similar to numpy arrays. In fact, the API is mostly consistent as you can see in the example below.\n",
    "However, they differ in two key parts:\n",
    "1. they can be used for computations on different types of processing units (e.g. CPU, GPU)\n",
    "2. tensors can keep track of the elements used to compute their value for auto differentiation"
   ]
  },
  {
   "cell_type": "code",
   "execution_count": 2,
   "id": "89841610",
   "metadata": {},
   "outputs": [
    {
     "name": "stdout",
     "output_type": "stream",
     "text": [
      "torch.Size([10, 5])\n",
      "torch.float32\n"
     ]
    },
    {
     "data": {
      "text/plain": [
       "tensor([[1., 1., 1., 1., 1.],\n",
       "        [1., 1., 1., 1., 1.],\n",
       "        [1., 1., 1., 1., 1.]])"
      ]
     },
     "execution_count": 2,
     "metadata": {},
     "output_type": "execute_result"
    }
   ],
   "source": [
    "my_tensor = torch.ones(10, 5)\n",
    "\n",
    "print(my_tensor.shape)\n",
    "print(my_tensor.dtype)\n",
    "\n",
    "my_tensor[3:6]"
   ]
  },
  {
   "cell_type": "markdown",
   "id": "d46fa5c3",
   "metadata": {},
   "source": [
    "## Devices"
   ]
  },
  {
   "cell_type": "markdown",
   "id": "d80bcb68-f711-4b77-b54b-9851c06f2582",
   "metadata": {},
   "source": [
    "One of the big differences between `numpy` and `pytorch` is, that `pytorch` can run computation on a GPU.\n",
    "Due to the amount and type of operations required for neural networks, a GPU is required for training and except for small networks even for inference.\n",
    "Since transfers between the CPU and GPU memory are slow, `pytorch` requires that we explicitely tell it when it should transfer the data."
   ]
  },
  {
   "cell_type": "code",
   "execution_count": 3,
   "id": "299224ee",
   "metadata": {},
   "outputs": [
    {
     "data": {
      "text/plain": [
       "device(type='cpu')"
      ]
     },
     "execution_count": 3,
     "metadata": {},
     "output_type": "execute_result"
    }
   ],
   "source": [
    "my_tensor.device"
   ]
  },
  {
   "cell_type": "code",
   "execution_count": 4,
   "id": "3ba2ab20",
   "metadata": {},
   "outputs": [
    {
     "data": {
      "text/plain": [
       "tensor([[1., 1., 1., 1., 1.],\n",
       "        [1., 1., 1., 1., 1.],\n",
       "        [1., 1., 1., 1., 1.],\n",
       "        [1., 1., 1., 1., 1.],\n",
       "        [1., 1., 1., 1., 1.],\n",
       "        [1., 1., 1., 1., 1.],\n",
       "        [1., 1., 1., 1., 1.],\n",
       "        [1., 1., 1., 1., 1.],\n",
       "        [1., 1., 1., 1., 1.],\n",
       "        [1., 1., 1., 1., 1.]], device='cuda:0')"
      ]
     },
     "execution_count": 4,
     "metadata": {},
     "output_type": "execute_result"
    }
   ],
   "source": [
    "device = torch.device(\"cuda:0\" if torch.cuda.is_available() else \"cpu\")\n",
    "my_tensor.to(device)"
   ]
  },
  {
   "cell_type": "markdown",
   "id": "bfd6de54",
   "metadata": {},
   "source": [
    "All of the tensors involved in a computation have to be on the same device. Usually, people define a device variable at the beginning of their code (like we did in the above example) that is used throughout. This makes it easy to switch between devices."
   ]
  },
  {
   "cell_type": "code",
   "execution_count": 5,
   "id": "510349e4",
   "metadata": {},
   "outputs": [
    {
     "ename": "RuntimeError",
     "evalue": "Expected all tensors to be on the same device, but found at least two devices, cuda:0 and cpu!",
     "output_type": "error",
     "traceback": [
      "\u001b[0;31m---------------------------------------------------------------------------\u001b[0m",
      "\u001b[0;31mRuntimeError\u001b[0m                              Traceback (most recent call last)",
      "Cell \u001b[0;32mIn[5], line 1\u001b[0m\n\u001b[0;32m----> 1\u001b[0m \u001b[43mmy_tensor\u001b[49m\u001b[38;5;241;43m.\u001b[39;49m\u001b[43mto\u001b[49m\u001b[43m(\u001b[49m\u001b[43mdevice\u001b[49m\u001b[43m)\u001b[49m\u001b[43m \u001b[49m\u001b[38;5;241;43m+\u001b[39;49m\u001b[43m \u001b[49m\u001b[43mtorch\u001b[49m\u001b[38;5;241;43m.\u001b[39;49m\u001b[43mones\u001b[49m\u001b[43m(\u001b[49m\u001b[38;5;241;43m10\u001b[39;49m\u001b[43m,\u001b[49m\u001b[43m \u001b[49m\u001b[38;5;241;43m5\u001b[39;49m\u001b[43m)\u001b[49m\n",
      "\u001b[0;31mRuntimeError\u001b[0m: Expected all tensors to be on the same device, but found at least two devices, cuda:0 and cpu!"
     ]
    }
   ],
   "source": [
    "my_tensor.to(device) + torch.ones(10, 5)"
   ]
  },
  {
   "cell_type": "markdown",
   "id": "2a1c6ade",
   "metadata": {
    "editable": true,
    "slideshow": {
     "slide_type": ""
    },
    "tags": []
   },
   "source": [
    "## Automatic Differentiation"
   ]
  },
  {
   "cell_type": "markdown",
   "id": "a2d19aa5",
   "metadata": {
    "editable": true,
    "slideshow": {
     "slide_type": ""
    },
    "tags": []
   },
   "source": [
    "Instead of neural network we can start with a simple (linear) equation with two parameters $a$ and $b$ as our model:\n",
    "\n",
    "\\begin{equation}\n",
    "f(x) = ax + b\n",
    "\\end{equation}\n",
    "\n",
    "We would like to fit this 'model' to some data:\n",
    "\n",
    "\\begin{equation}\n",
    "\\{y_i, x_i\\}_{i=0}^n\n",
    "\\end{equation}\n",
    "\n",
    "We can define the loss function which measures the fit as the sum of squares, i.e. the square of the $\\ell^2$-norm\n",
    "\n",
    "\\begin{equation}\n",
    "\\begin{split}\n",
    "\\text{loss} & = \\|\\mathbf{y} - f(\\mathbf{x})\\|_2^2 \\\\\n",
    "& = \\sum_{i=1}^{n}(y_i - f(x_i))^2 \\\\\n",
    "& = \\sum_{i=1}^{n}(y_i - ax_i - b)^2\n",
    "\\end{split}\n",
    "\\end{equation}\n",
    "\n",
    "The partial derivatives are:\n",
    "\n",
    "\\begin{equation}\n",
    "\\begin{split}\n",
    "\\frac{\\partial \\text{loss}}{\\partial a} & = \\sum_{i=1}^{n}2(y_i - a x_i - b)(-x_i) \\\\\n",
    "& = \\sum_{i=1}^{n}2(a x_i^2 + b x_i - y_i x_i)\n",
    "\\end{split}\n",
    "\\end{equation}\n",
    "\n",
    "\\begin{equation}\n",
    "\\frac{\\partial \\text{loss}}{\\partial b} = \\sum_{i=1}^{n}2(a x_i + b - y_i)\n",
    "\\end{equation}"
   ]
  },
  {
   "cell_type": "code",
   "execution_count": 6,
   "id": "9b040f99",
   "metadata": {},
   "outputs": [
    {
     "name": "stdout",
     "output_type": "stream",
     "text": [
      "The gradients before calling backward:\n",
      "None\n",
      "None\n",
      "\n",
      "The gradients after calling backward:\n",
      "tensor([-0.8000])\n",
      "tensor([-6.])\n",
      "\n",
      "Check that the gradients are consistent with our theoretical computation:\n",
      "tensor([True])\n",
      "tensor([True])\n"
     ]
    }
   ],
   "source": [
    "# Define some data points x are the inputs to the model and y are the desired outputs\n",
    "x = torch.tensor([-1., 0., 1.])\n",
    "y = torch.tensor([-0.2, 1, 2.2])\n",
    "\n",
    "# Define the two parameters of our \"model\"\n",
    "a = torch.tensor([1.], requires_grad=True)\n",
    "b = torch.tensor([0.], requires_grad=True)\n",
    "\n",
    "# Note: normally one would use torch.nn.MSELoss(reduction='sum') but I am trying to be explicit here\n",
    "loss = torch.sum((y - a * x - b) ** 2)\n",
    "\n",
    "print(\"The gradients before calling backward:\")\n",
    "print(a.grad)\n",
    "print(b.grad)\n",
    "\n",
    "# Backward propagates the gradients\n",
    "loss.backward()\n",
    "\n",
    "print(\"\\nThe gradients after calling backward:\")\n",
    "print(a.grad)\n",
    "print(b.grad)\n",
    "\n",
    "print(\"\\nCheck that the gradients are consistent with our theoretical computation:\")\n",
    "print(a.grad == 2 * torch.sum(a * x ** 2 + b * x - y * x))\n",
    "print(b.grad == 2 * torch.sum(a * x + b - y))"
   ]
  },
  {
   "cell_type": "markdown",
   "id": "f90ec3f6-fd7f-46d1-af95-9e0e66bf69ec",
   "metadata": {},
   "source": [
    "Internally PyTorch keeps track of the the computations in the form of a directed acyclic graph.\n",
    "This graph is sometimes called the computational graph.\n",
    "We can visulaise it using torchviz. When we call backward the gradients are set using the chain rool starting from the 'root'.\n",
    "\n",
    "Note: This doesn't work on gnoto because `torchviz` is not installed. Below is an image of the output.\n",
    "\n",
    "```\n",
    "import torchviz\n",
    "torchviz.make_dot(loss, params={\"a\": a, \"b\": b})\n",
    "```\n",
    "\n",
    "![DAG](dag.png)"
   ]
  },
  {
   "cell_type": "markdown",
   "id": "cc541614",
   "metadata": {},
   "source": [
    "## Detaching"
   ]
  },
  {
   "cell_type": "markdown",
   "id": "de3650f6-2624-4bd2-bb5b-91ad4f5559bb",
   "metadata": {},
   "source": [
    "In some cases, for example for plotting, we need to convert a PyTorch tensor to a numpy array.\n",
    "Tensors that `require_grad` need to be explicitly detached before we can convert them to a numpy array.\n",
    "This is because they have to removed from the computational graph first."
   ]
  },
  {
   "cell_type": "code",
   "execution_count": 7,
   "id": "e178d490",
   "metadata": {},
   "outputs": [
    {
     "ename": "RuntimeError",
     "evalue": "Can't call numpy() on Tensor that requires grad. Use tensor.detach().numpy() instead.",
     "output_type": "error",
     "traceback": [
      "\u001b[0;31m---------------------------------------------------------------------------\u001b[0m",
      "\u001b[0;31mRuntimeError\u001b[0m                              Traceback (most recent call last)",
      "Cell \u001b[0;32mIn[7], line 1\u001b[0m\n\u001b[0;32m----> 1\u001b[0m a \u001b[38;5;241m=\u001b[39m \u001b[43ma\u001b[49m\u001b[38;5;241;43m.\u001b[39;49m\u001b[43mnumpy\u001b[49m\u001b[43m(\u001b[49m\u001b[43m)\u001b[49m\n",
      "\u001b[0;31mRuntimeError\u001b[0m: Can't call numpy() on Tensor that requires grad. Use tensor.detach().numpy() instead."
     ]
    }
   ],
   "source": [
    "a = a.numpy()"
   ]
  },
  {
   "cell_type": "code",
   "execution_count": 8,
   "id": "f9b2b036",
   "metadata": {},
   "outputs": [],
   "source": [
    "a = a.detach().numpy()"
   ]
  },
  {
   "cell_type": "markdown",
   "id": "721342c9",
   "metadata": {},
   "source": [
    "# Training a Neural Network"
   ]
  },
  {
   "cell_type": "markdown",
   "id": "c75bbe5c-9988-4ada-8096-982a4d529d0d",
   "metadata": {},
   "source": [
    "We will reproduce one of the early works using convolutional neural networks for computer vision (LeCun et al. 1994).\n",
    "The goal is to train a network that can classify hand written digits.\n",
    "\n",
    "First we have to construct our network by creating a class that in herites from `torch.nn.Module`. You can think of a class as a template for the creation of new object.\n",
    "For our network we have to define a constructor and the forward function."
   ]
  },
  {
   "cell_type": "code",
   "execution_count": 9,
   "id": "5ed839b5",
   "metadata": {},
   "outputs": [],
   "source": [
    "class LeNet(torch.nn.Module):\n",
    "    def __init__(self):\n",
    "        # This is the constructor. It is called when we create a new object from\n",
    "        # our class. It creates all of the components of the neural network.\n",
    "        \n",
    "        # This calls the constructor of the parent class, i.e. torch.nn.Module\n",
    "        super(LeNet, self).__init__()\n",
    "\n",
    "        # Create a convolution object (filter bank) with 6 kernels of size 5x5 pixels\n",
    "        self.conv1 = torch.nn.Conv2d(in_channels=1, out_channels=6, kernel_size=5, padding=2)\n",
    "        # Down scale the image by binning groups of 2x2 pixels\n",
    "        self.pool1 = torch.nn.AvgPool2d(kernel_size=2, stride=2)\n",
    "        # Create a convolution object with 16 * 6 kernels of size 5x5 pixels\n",
    "        self.conv2 = torch.nn.Conv2d(in_channels=6, out_channels=16, kernel_size=5)\n",
    "        # Down scale the image by binning groups of 2x2 pixels\n",
    "        self.pool2 = torch.nn.AvgPool2d(kernel_size=2, stride=2)\n",
    "        # Fully conected layers (every output is a weighted sum of all of the inputs)\n",
    "        self.fc1 = torch.nn.Linear(16 * 5 * 5, 120)\n",
    "        self.fc2 = torch.nn.Linear(120, 84)\n",
    "        self.fc3 = torch.nn.Linear(84, 10)\n",
    "\n",
    "        # The activation function is the non-linear component\n",
    "        # that makes neural networks more powerful that linear regression.\n",
    "        self.activation_function = torch.nn.Sigmoid() \n",
    "\n",
    "    def forward(self, img):\n",
    "        # The forward function defines how the input is processed/passed through the\n",
    "        # different layers\n",
    "        res = self.conv1(img)\n",
    "        res = self.activation_function(res)\n",
    "        res = self.pool1(res)\n",
    "        res = self.conv2(res)\n",
    "        res = self.activation_function(res)\n",
    "        res = self.pool2(res)\n",
    "        # Make the feature vector 1D\n",
    "        res = torch.flatten(res, start_dim=1)\n",
    "        res = self.fc1(res)\n",
    "        res = self.activation_function(res)\n",
    "        res = self.fc2(res)\n",
    "        res = self.activation_function(res)\n",
    "        res = self.fc3(res)\n",
    "        return res"
   ]
  },
  {
   "cell_type": "code",
   "execution_count": 10,
   "id": "9c5b5872",
   "metadata": {},
   "outputs": [
    {
     "name": "stdout",
     "output_type": "stream",
     "text": [
      "LeNet(\n",
      "  (conv1): Conv2d(1, 6, kernel_size=(5, 5), stride=(1, 1), padding=(2, 2))\n",
      "  (pool1): AvgPool2d(kernel_size=2, stride=2, padding=0)\n",
      "  (conv2): Conv2d(6, 16, kernel_size=(5, 5), stride=(1, 1))\n",
      "  (pool2): AvgPool2d(kernel_size=2, stride=2, padding=0)\n",
      "  (fc1): Linear(in_features=400, out_features=120, bias=True)\n",
      "  (fc2): Linear(in_features=120, out_features=84, bias=True)\n",
      "  (fc3): Linear(in_features=84, out_features=10, bias=True)\n",
      "  (activation_function): Sigmoid()\n",
      ")\n"
     ]
    }
   ],
   "source": [
    "# Create an instance of the network\n",
    "model = LeNet()\n",
    "print(model)"
   ]
  },
  {
   "cell_type": "code",
   "execution_count": 11,
   "id": "fc0d9c6e",
   "metadata": {},
   "outputs": [
    {
     "name": "stdout",
     "output_type": "stream",
     "text": [
      "conv1.weight torch.Size([6, 1, 5, 5])\n",
      "conv1.bias torch.Size([6])\n",
      "conv2.weight torch.Size([16, 6, 5, 5])\n",
      "conv2.bias torch.Size([16])\n",
      "fc1.weight torch.Size([120, 400])\n",
      "fc1.bias torch.Size([120])\n",
      "fc2.weight torch.Size([84, 120])\n",
      "fc2.bias torch.Size([84])\n",
      "fc3.weight torch.Size([10, 84])\n",
      "fc3.bias torch.Size([10])\n",
      "\n",
      "Total number of parameters: 61706\n"
     ]
    }
   ],
   "source": [
    "# Iterate over all of the parameters in the model\n",
    "for name, parameters in model.named_parameters():\n",
    "    # Print the name and the number of parameters\n",
    "    print(name, parameters.size())\n",
    "    # Initialize the weights for training later on\n",
    "    if \"weight\" in name:\n",
    "        torch.nn.init.xavier_normal_(parameters)\n",
    "        \n",
    "total_number_of_parameters = sum(p.numel() for p in model.parameters() if p.requires_grad)\n",
    "print(\"\\nTotal number of parameters:\", total_number_of_parameters)"
   ]
  },
  {
   "cell_type": "code",
   "execution_count": 12,
   "id": "3988eddf",
   "metadata": {},
   "outputs": [
    {
     "name": "stdout",
     "output_type": "stream",
     "text": [
      "Number of image in the train dataset 60000\n",
      "number of batches 3000\n",
      "\n",
      "Number of images in the test dataset 10000\n",
      "Number of batches 500\n"
     ]
    }
   ],
   "source": [
    "# You can consider the transform the \"preprocessing\" of the data.\n",
    "# It can include augmentation.\n",
    "transform = torchvision.transforms.Compose([\n",
    "                torchvision.transforms.ToTensor(),\n",
    "                torchvision.transforms.Normalize(mean=0, std=1)\n",
    "            ])\n",
    "\n",
    "# For simplicity we will use a dataset provided by torchvision\n",
    "train_dataset = torchvision.datasets.MNIST(root=\"./data\", train=True, download=True, transform=transform)\n",
    "print(\"Number of image in the train dataset\", len(train_dataset))\n",
    "\n",
    "# The batch size is the number of images processed simultaneously\n",
    "batch_size = 20\n",
    "\n",
    "# The data loader yields images in batches in a random order (shuffle=True)\n",
    "train_dataloader = torch.utils.data.DataLoader(train_dataset, batch_size=batch_size, shuffle=True, num_workers=6)\n",
    "print(\"number of batches\", len(train_dataloader))\n",
    "\n",
    "# To confirm that we trained our model succefully we can use a test dataset.\n",
    "# Note: We don't need shuffeling here and the transform should not include any augmentations.\n",
    "test_dataset = torchvision.datasets.MNIST(root=\"./data\", train=False, download=True, transform=transform)\n",
    "print(\"\\nNumber of images in the test dataset\", len(test_dataset))\n",
    "test_dataloader = torch.utils.data.DataLoader(test_dataset, batch_size=batch_size, num_workers=6)\n",
    "print(\"Number of batches\", len(test_dataloader))"
   ]
  },
  {
   "cell_type": "markdown",
   "id": "dd87f2ba-8969-47da-b340-79756e5cfadf",
   "metadata": {},
   "source": [
    "Let's take a look at the data!"
   ]
  },
  {
   "cell_type": "code",
   "execution_count": 13,
   "id": "fcceb77b",
   "metadata": {
    "scrolled": true
   },
   "outputs": [
    {
     "data": {
      "image/png": "[encoded data removed]",
      "text/plain": [
       "<Figure size 1000x700 with 20 Axes>"
      ]
     },
     "metadata": {},
     "output_type": "display_data"
    }
   ],
   "source": [
    "for data in train_dataloader:\n",
    "    imgs = data[0]\n",
    "    labels = data[1]\n",
    "    fig, axes = plt.subplots(1, len(imgs), figsize=(10, 7))\n",
    "    for i, img in enumerate(torch.squeeze(imgs)):\n",
    "        axes[i].imshow(img, cmap=\"gray\")\n",
    "        axes[i].set_xticks([], [])\n",
    "        axes[i].set_yticks([], [])\n",
    "        axes[i].set_xlabel(labels[i].item())\n",
    "    plt.show()\n",
    "    break"
   ]
  },
  {
   "cell_type": "markdown",
   "id": "9e6965a6-7f7d-483f-a04d-eb937d383d4d",
   "metadata": {},
   "source": [
    "The optimizer defines how we update the parameters.\n",
    "Every time we call optimizer.step the parameters are updated.\n",
    "Classical stochastic gradient descend (SGD) updates the weights as follows:\n",
    "\n",
    "\\begin{equation}\n",
    "    \\theta_t = \\theta_{t-1} - \\gamma \\frac{\\partial\\text{loss}}{\\partial \\theta}\n",
    "\\end{equation}\n",
    "\n",
    "where $\\theta$ is one of the parameters and $\\gamma$ is the learning rate."
   ]
  },
  {
   "cell_type": "code",
   "execution_count": 14,
   "id": "7ee1309a",
   "metadata": {},
   "outputs": [
    {
     "name": "stdout",
     "output_type": "stream",
     "text": [
      "Epoch 0\n"
     ]
    },
    {
     "name": "stderr",
     "output_type": "stream",
     "text": [
      "100%|████████████████████████████████████████████████████████████████████████████████████████████████████| 3000/3000 [00:06<00:00, 444.04it/s]\n"
     ]
    },
    {
     "name": "stdout",
     "output_type": "stream",
     "text": [
      "Loss 6942.157172203064\n",
      "Epoch 1\n"
     ]
    },
    {
     "name": "stderr",
     "output_type": "stream",
     "text": [
      "100%|████████████████████████████████████████████████████████████████████████████████████████████████████| 3000/3000 [00:06<00:00, 442.08it/s]\n"
     ]
    },
    {
     "name": "stdout",
     "output_type": "stream",
     "text": [
      "Loss 6937.3998601436615\n",
      "Epoch 2\n"
     ]
    },
    {
     "name": "stderr",
     "output_type": "stream",
     "text": [
      "100%|████████████████████████████████████████████████████████████████████████████████████████████████████| 3000/3000 [00:06<00:00, 431.58it/s]\n"
     ]
    },
    {
     "name": "stdout",
     "output_type": "stream",
     "text": [
      "Loss 6938.5811903476715\n",
      "Epoch 3\n"
     ]
    },
    {
     "name": "stderr",
     "output_type": "stream",
     "text": [
      "100%|████████████████████████████████████████████████████████████████████████████████████████████████████| 3000/3000 [00:06<00:00, 435.38it/s]\n"
     ]
    },
    {
     "name": "stdout",
     "output_type": "stream",
     "text": [
      "Loss 6936.455983400345\n",
      "Epoch 4\n"
     ]
    },
    {
     "name": "stderr",
     "output_type": "stream",
     "text": [
      "100%|████████████████████████████████████████████████████████████████████████████████████████████████████| 3000/3000 [00:06<00:00, 445.37it/s]\n"
     ]
    },
    {
     "name": "stdout",
     "output_type": "stream",
     "text": [
      "Loss 6937.646423578262\n",
      "Epoch 5\n"
     ]
    },
    {
     "name": "stderr",
     "output_type": "stream",
     "text": [
      "100%|████████████████████████████████████████████████████████████████████████████████████████████████████| 3000/3000 [00:06<00:00, 487.73it/s]\n"
     ]
    },
    {
     "name": "stdout",
     "output_type": "stream",
     "text": [
      "Loss 6935.800943613052\n",
      "Epoch 6\n"
     ]
    },
    {
     "name": "stderr",
     "output_type": "stream",
     "text": [
      "100%|████████████████████████████████████████████████████████████████████████████████████████████████████| 3000/3000 [00:06<00:00, 480.14it/s]\n"
     ]
    },
    {
     "name": "stdout",
     "output_type": "stream",
     "text": [
      "Loss 3377.086785878055\n",
      "Epoch 7\n"
     ]
    },
    {
     "name": "stderr",
     "output_type": "stream",
     "text": [
      "100%|████████████████████████████████████████████████████████████████████████████████████████████████████| 3000/3000 [00:06<00:00, 454.72it/s]\n"
     ]
    },
    {
     "name": "stdout",
     "output_type": "stream",
     "text": [
      "Loss 341.97086855291855\n",
      "Epoch 8\n"
     ]
    },
    {
     "name": "stderr",
     "output_type": "stream",
     "text": [
      "100%|████████████████████████████████████████████████████████████████████████████████████████████████████| 3000/3000 [00:06<00:00, 465.26it/s]\n"
     ]
    },
    {
     "name": "stdout",
     "output_type": "stream",
     "text": [
      "Loss 209.97840264823753\n",
      "Epoch 9\n"
     ]
    },
    {
     "name": "stderr",
     "output_type": "stream",
     "text": [
      "100%|████████████████████████████████████████████████████████████████████████████████████████████████████| 3000/3000 [00:06<00:00, 453.35it/s]\n"
     ]
    },
    {
     "name": "stdout",
     "output_type": "stream",
     "text": [
      "Loss 161.2653755347128\n",
      "Epoch 10\n"
     ]
    },
    {
     "name": "stderr",
     "output_type": "stream",
     "text": [
      "100%|████████████████████████████████████████████████████████████████████████████████████████████████████| 3000/3000 [00:06<00:00, 446.14it/s]\n"
     ]
    },
    {
     "name": "stdout",
     "output_type": "stream",
     "text": [
      "Loss 132.1373241485271\n",
      "Epoch 11\n"
     ]
    },
    {
     "name": "stderr",
     "output_type": "stream",
     "text": [
      "100%|████████████████████████████████████████████████████████████████████████████████████████████████████| 3000/3000 [00:06<00:00, 441.54it/s]\n"
     ]
    },
    {
     "name": "stdout",
     "output_type": "stream",
     "text": [
      "Loss 109.9154461974249\n",
      "Epoch 12\n"
     ]
    },
    {
     "name": "stderr",
     "output_type": "stream",
     "text": [
      "100%|████████████████████████████████████████████████████████████████████████████████████████████████████| 3000/3000 [00:06<00:00, 449.95it/s]\n"
     ]
    },
    {
     "name": "stdout",
     "output_type": "stream",
     "text": [
      "Loss 92.6353054919673\n",
      "Epoch 13\n"
     ]
    },
    {
     "name": "stderr",
     "output_type": "stream",
     "text": [
      "100%|████████████████████████████████████████████████████████████████████████████████████████████████████| 3000/3000 [00:06<00:00, 443.31it/s]\n"
     ]
    },
    {
     "name": "stdout",
     "output_type": "stream",
     "text": [
      "Loss 80.35180177323491\n",
      "Epoch 14\n"
     ]
    },
    {
     "name": "stderr",
     "output_type": "stream",
     "text": [
      "100%|████████████████████████████████████████████████████████████████████████████████████████████████████| 3000/3000 [00:06<00:00, 478.49it/s]\n"
     ]
    },
    {
     "name": "stdout",
     "output_type": "stream",
     "text": [
      "Loss 68.59536332774223\n",
      "Epoch 15\n"
     ]
    },
    {
     "name": "stderr",
     "output_type": "stream",
     "text": [
      "100%|████████████████████████████████████████████████████████████████████████████████████████████████████| 3000/3000 [00:06<00:00, 496.16it/s]\n"
     ]
    },
    {
     "name": "stdout",
     "output_type": "stream",
     "text": [
      "Loss 60.492914147806005\n",
      "Epoch 16\n"
     ]
    },
    {
     "name": "stderr",
     "output_type": "stream",
     "text": [
      "100%|████████████████████████████████████████████████████████████████████████████████████████████████████| 3000/3000 [00:05<00:00, 517.97it/s]\n"
     ]
    },
    {
     "name": "stdout",
     "output_type": "stream",
     "text": [
      "Loss 48.58680778625785\n",
      "Epoch 17\n"
     ]
    },
    {
     "name": "stderr",
     "output_type": "stream",
     "text": [
      "100%|████████████████████████████████████████████████████████████████████████████████████████████████████| 3000/3000 [00:06<00:00, 478.36it/s]\n"
     ]
    },
    {
     "name": "stdout",
     "output_type": "stream",
     "text": [
      "Loss 44.06532376928408\n",
      "Epoch 18\n"
     ]
    },
    {
     "name": "stderr",
     "output_type": "stream",
     "text": [
      "100%|████████████████████████████████████████████████████████████████████████████████████████████████████| 3000/3000 [00:06<00:00, 443.10it/s]\n"
     ]
    },
    {
     "name": "stdout",
     "output_type": "stream",
     "text": [
      "Loss 41.32299235472237\n",
      "Epoch 19\n"
     ]
    },
    {
     "name": "stderr",
     "output_type": "stream",
     "text": [
      "100%|████████████████████████████████████████████████████████████████████████████████████████████████████| 3000/3000 [00:06<00:00, 441.96it/s]"
     ]
    },
    {
     "name": "stdout",
     "output_type": "stream",
     "text": [
      "Loss 33.79781734442986\n"
     ]
    },
    {
     "name": "stderr",
     "output_type": "stream",
     "text": [
      "\n"
     ]
    }
   ],
   "source": [
    "optimizer = torch.optim.SGD(model.parameters(), lr=0.1, momentum=0.9)\n",
    "\n",
    "loss_function = torch.nn.CrossEntropyLoss()\n",
    "\n",
    "# Move the model to the device (CPU or GPU)\n",
    "model.to(device)\n",
    "\n",
    "# Set the model to train mode\n",
    "model.train()\n",
    "\n",
    "running_losses = []\n",
    "\n",
    "# The training loop\n",
    "for epoch in range(20):\n",
    "    print(f\"Epoch {epoch}\")\n",
    "    running_loss = 0\n",
    "    for data in tqdm.tqdm(train_dataloader):\n",
    "        imgs = data[0].to(device)\n",
    "        labels = data[1].to(device)\n",
    "        # Reset the gradients\n",
    "        optimizer.zero_grad()\n",
    "        # Forward run through the network\n",
    "        output = model(imgs)\n",
    "        # Compute the loss\n",
    "        loss = loss_function(output, labels)\n",
    "        # Update the gradients\n",
    "        loss.backward()\n",
    "        # Update the parameters of the network\n",
    "        optimizer.step()\n",
    "\n",
    "        running_loss += loss.item()\n",
    "    running_losses.append(running_loss)\n",
    "    print(\"Loss\", running_loss)"
   ]
  },
  {
   "cell_type": "code",
   "execution_count": 15,
   "id": "f18c9533",
   "metadata": {},
   "outputs": [
    {
     "data": {
      "image/png": "[encoded data removed]",
      "text/plain": [
       "<Figure size 640x480 with 1 Axes>"
      ]
     },
     "metadata": {},
     "output_type": "display_data"
    }
   ],
   "source": [
    "plt.plot(running_losses)\n",
    "plt.yscale(\"log\")\n",
    "plt.xlabel(\"Epoch\")\n",
    "plt.ylabel(\"Loss\")\n",
    "plt.show()"
   ]
  },
  {
   "cell_type": "markdown",
   "id": "e95964ab",
   "metadata": {},
   "source": [
    "## Test the trained model"
   ]
  },
  {
   "cell_type": "code",
   "execution_count": 16,
   "id": "ff070f27",
   "metadata": {},
   "outputs": [
    {
     "name": "stderr",
     "output_type": "stream",
     "text": [
      "100%|██████████████████████████████████████████████████████████████████████████████████████████████████████| 500/500 [00:00<00:00, 700.23it/s]"
     ]
    },
    {
     "name": "stdout",
     "output_type": "stream",
     "text": [
      "Correctly classified numbers in test dataset: 98.69%\n"
     ]
    },
    {
     "name": "stderr",
     "output_type": "stream",
     "text": [
      "\n"
     ]
    }
   ],
   "source": [
    "model.eval()\n",
    "\n",
    "n_correct = 0 \n",
    "for data in tqdm.tqdm(test_dataloader):\n",
    "    imgs = data[0].to(device)\n",
    "    labels = data[1].to(device)\n",
    "    output = model(imgs)\n",
    "    correct_labels = labels == output.max(dim=1).indices\n",
    "    # print(correct_labels)\n",
    "    # print(torch.sum(correct_labels))\n",
    "    n_correct += torch.sum(correct_labels).item()\n",
    "    \n",
    "print(f\"Correctly classified numbers in test dataset: {n_correct / len(test_dataset) * 100}%\")"
   ]
  },
  {
   "cell_type": "markdown",
   "id": "e8612fae",
   "metadata": {},
   "source": [
    "Saving a trained model\n",
    "----------------------\n",
    "<font size=\"5\">\n",
    "The easiest way to save the result of your training is by saving the so called state dictionary. This contains the model parameters. However, it is important to realize that we need the model class in addition to the saved state dict to load the model.\n",
    "</font>"
   ]
  },
  {
   "cell_type": "code",
   "execution_count": 17,
   "id": "f3a527e6",
   "metadata": {},
   "outputs": [
    {
     "data": {
      "text/plain": [
       "<All keys matched successfully>"
      ]
     },
     "execution_count": 17,
     "metadata": {},
     "output_type": "execute_result"
    }
   ],
   "source": [
    "# Saving model weights\n",
    "torch.save(model.state_dict(), \"./model_weights.pth\")\n",
    "\n",
    "# Loading model weights\n",
    "new_model = LeNet()\n",
    "new_model.load_state_dict(torch.load(\"./model_weights.pth\"))"
   ]
  },
  {
   "cell_type": "markdown",
   "id": "f57f9997-2169-4b48-a8fd-fbafd9dd364e",
   "metadata": {},
   "source": [
    "Alternatively, you could use the onnx format which save all the relevant information to load the model. In fact it even allows you to execute the model in a different programming language, such as C++."
   ]
  },
  {
   "cell_type": "code",
   "execution_count": 18,
   "id": "f1ec57a3",
   "metadata": {},
   "outputs": [
    {
     "data": {
      "image/png": "[encoded data removed]",
      "text/plain": [
       "<Figure size 640x480 with 6 Axes>"
      ]
     },
     "metadata": {},
     "output_type": "display_data"
    }
   ],
   "source": [
    "kernels = model.conv1.weight.detach().cpu()\n",
    "fig, axes = plt.subplots(1, len(kernels))\n",
    "for i in range(len(kernels)):\n",
    "    axes[i].imshow(kernels[i, 0], cmap=\"gray\")\n",
    "    axes[i].set_xticks([], [])\n",
    "    axes[i].set_yticks([], [])\n",
    "plt.show()"
   ]
  },
  {
   "cell_type": "markdown",
   "id": "a2b5f4b3",
   "metadata": {},
   "source": [
    "# Transfer learning example"
   ]
  },
  {
   "cell_type": "markdown",
   "id": "eb2b77a5-c97e-4686-b3dd-7e5957bb32af",
   "metadata": {},
   "source": [
    "For this example we will use one of `torchvision`'s pretrained models.\n",
    "The ResNet18 is one a relatively small deep neural network usally used for image classification.\n",
    "We will initialize our network with the weights trained on ImageNet (a dataset of images that are classified in 1000 categories). We will adapt this network to a smaller dataset with only 10 categories."
   ]
  },
  {
   "cell_type": "code",
   "execution_count": 19,
   "id": "bf1e158a",
   "metadata": {},
   "outputs": [
    {
     "name": "stdout",
     "output_type": "stream",
     "text": [
      "ResNet(\n",
      "  (conv1): Conv2d(3, 64, kernel_size=(7, 7), stride=(2, 2), padding=(3, 3), bias=False)\n",
      "  (bn1): BatchNorm2d(64, eps=1e-05, momentum=0.1, affine=True, track_running_stats=True)\n",
      "  (relu): ReLU(inplace=True)\n",
      "  (maxpool): MaxPool2d(kernel_size=3, stride=2, padding=1, dilation=1, ceil_mode=False)\n",
      "  (layer1): Sequential(\n",
      "    (0): BasicBlock(\n",
      "      (conv1): Conv2d(64, 64, kernel_size=(3, 3), stride=(1, 1), padding=(1, 1), bias=False)\n",
      "      (bn1): BatchNorm2d(64, eps=1e-05, momentum=0.1, affine=True, track_running_stats=True)\n",
      "      (relu): ReLU(inplace=True)\n",
      "      (conv2): Conv2d(64, 64, kernel_size=(3, 3), stride=(1, 1), padding=(1, 1), bias=False)\n",
      "      (bn2): BatchNorm2d(64, eps=1e-05, momentum=0.1, affine=True, track_running_stats=True)\n",
      "    )\n",
      "    (1): BasicBlock(\n",
      "      (conv1): Conv2d(64, 64, kernel_size=(3, 3), stride=(1, 1), padding=(1, 1), bias=False)\n",
      "      (bn1): BatchNorm2d(64, eps=1e-05, momentum=0.1, affine=True, track_running_stats=True)\n",
      "      (relu): ReLU(inplace=True)\n",
      "      (conv2): Conv2d(64, 64, kernel_size=(3, 3), stride=(1, 1), padding=(1, 1), bias=False)\n",
      "      (bn2): BatchNorm2d(64, eps=1e-05, momentum=0.1, affine=True, track_running_stats=True)\n",
      "    )\n",
      "  )\n",
      "  (layer2): Sequential(\n",
      "    (0): BasicBlock(\n",
      "      (conv1): Conv2d(64, 128, kernel_size=(3, 3), stride=(2, 2), padding=(1, 1), bias=False)\n",
      "      (bn1): BatchNorm2d(128, eps=1e-05, momentum=0.1, affine=True, track_running_stats=True)\n",
      "      (relu): ReLU(inplace=True)\n",
      "      (conv2): Conv2d(128, 128, kernel_size=(3, 3), stride=(1, 1), padding=(1, 1), bias=False)\n",
      "      (bn2): BatchNorm2d(128, eps=1e-05, momentum=0.1, affine=True, track_running_stats=True)\n",
      "      (downsample): Sequential(\n",
      "        (0): Conv2d(64, 128, kernel_size=(1, 1), stride=(2, 2), bias=False)\n",
      "        (1): BatchNorm2d(128, eps=1e-05, momentum=0.1, affine=True, track_running_stats=True)\n",
      "      )\n",
      "    )\n",
      "    (1): BasicBlock(\n",
      "      (conv1): Conv2d(128, 128, kernel_size=(3, 3), stride=(1, 1), padding=(1, 1), bias=False)\n",
      "      (bn1): BatchNorm2d(128, eps=1e-05, momentum=0.1, affine=True, track_running_stats=True)\n",
      "      (relu): ReLU(inplace=True)\n",
      "      (conv2): Conv2d(128, 128, kernel_size=(3, 3), stride=(1, 1), padding=(1, 1), bias=False)\n",
      "      (bn2): BatchNorm2d(128, eps=1e-05, momentum=0.1, affine=True, track_running_stats=True)\n",
      "    )\n",
      "  )\n",
      "  (layer3): Sequential(\n",
      "    (0): BasicBlock(\n",
      "      (conv1): Conv2d(128, 256, kernel_size=(3, 3), stride=(2, 2), padding=(1, 1), bias=False)\n",
      "      (bn1): BatchNorm2d(256, eps=1e-05, momentum=0.1, affine=True, track_running_stats=True)\n",
      "      (relu): ReLU(inplace=True)\n",
      "      (conv2): Conv2d(256, 256, kernel_size=(3, 3), stride=(1, 1), padding=(1, 1), bias=False)\n",
      "      (bn2): BatchNorm2d(256, eps=1e-05, momentum=0.1, affine=True, track_running_stats=True)\n",
      "      (downsample): Sequential(\n",
      "        (0): Conv2d(128, 256, kernel_size=(1, 1), stride=(2, 2), bias=False)\n",
      "        (1): BatchNorm2d(256, eps=1e-05, momentum=0.1, affine=True, track_running_stats=True)\n",
      "      )\n",
      "    )\n",
      "    (1): BasicBlock(\n",
      "      (conv1): Conv2d(256, 256, kernel_size=(3, 3), stride=(1, 1), padding=(1, 1), bias=False)\n",
      "      (bn1): BatchNorm2d(256, eps=1e-05, momentum=0.1, affine=True, track_running_stats=True)\n",
      "      (relu): ReLU(inplace=True)\n",
      "      (conv2): Conv2d(256, 256, kernel_size=(3, 3), stride=(1, 1), padding=(1, 1), bias=False)\n",
      "      (bn2): BatchNorm2d(256, eps=1e-05, momentum=0.1, affine=True, track_running_stats=True)\n",
      "    )\n",
      "  )\n",
      "  (layer4): Sequential(\n",
      "    (0): BasicBlock(\n",
      "      (conv1): Conv2d(256, 512, kernel_size=(3, 3), stride=(2, 2), padding=(1, 1), bias=False)\n",
      "      (bn1): BatchNorm2d(512, eps=1e-05, momentum=0.1, affine=True, track_running_stats=True)\n",
      "      (relu): ReLU(inplace=True)\n",
      "      (conv2): Conv2d(512, 512, kernel_size=(3, 3), stride=(1, 1), padding=(1, 1), bias=False)\n",
      "      (bn2): BatchNorm2d(512, eps=1e-05, momentum=0.1, affine=True, track_running_stats=True)\n",
      "      (downsample): Sequential(\n",
      "        (0): Conv2d(256, 512, kernel_size=(1, 1), stride=(2, 2), bias=False)\n",
      "        (1): BatchNorm2d(512, eps=1e-05, momentum=0.1, affine=True, track_running_stats=True)\n",
      "      )\n",
      "    )\n",
      "    (1): BasicBlock(\n",
      "      (conv1): Conv2d(512, 512, kernel_size=(3, 3), stride=(1, 1), padding=(1, 1), bias=False)\n",
      "      (bn1): BatchNorm2d(512, eps=1e-05, momentum=0.1, affine=True, track_running_stats=True)\n",
      "      (relu): ReLU(inplace=True)\n",
      "      (conv2): Conv2d(512, 512, kernel_size=(3, 3), stride=(1, 1), padding=(1, 1), bias=False)\n",
      "      (bn2): BatchNorm2d(512, eps=1e-05, momentum=0.1, affine=True, track_running_stats=True)\n",
      "    )\n",
      "  )\n",
      "  (avgpool): AdaptiveAvgPool2d(output_size=(1, 1))\n",
      "  (fc): Linear(in_features=512, out_features=1000, bias=True)\n",
      ")\n"
     ]
    }
   ],
   "source": [
    "# Load the model with the ImageNet weights\n",
    "model = torchvision.models.resnet18(weights=torchvision.models.ResNet18_Weights.DEFAULT)\n",
    "print(model)"
   ]
  },
  {
   "cell_type": "code",
   "execution_count": 20,
   "id": "5822b6d5-e3c3-493e-9b0f-7976dce34643",
   "metadata": {},
   "outputs": [
    {
     "name": "stdout",
     "output_type": "stream",
     "text": [
      "\n",
      "Total number of parameters: 11689512\n"
     ]
    }
   ],
   "source": [
    "total_number_of_parameters = sum(p.numel() for p in model.parameters())\n",
    "print(\"\\nTotal number of parameters:\", total_number_of_parameters)"
   ]
  },
  {
   "cell_type": "markdown",
   "id": "f9c23ddd-5585-481b-8b24-9fa4bf6d0d74",
   "metadata": {},
   "source": [
    "Since our dataset is much smaller, we would like to reduce number of parameters to speed up training and prevent overfitting.\n",
    "To exclude them for the optimization process we can turn off `requires_grad`, this is often refered to as 'freezing'."
   ]
  },
  {
   "cell_type": "code",
   "execution_count": 21,
   "id": "36a061ca-9e18-4eaf-aa14-72d4cb49fbd2",
   "metadata": {},
   "outputs": [
    {
     "name": "stdout",
     "output_type": "stream",
     "text": [
      "\n",
      "Total number of trainable parameters: 0\n"
     ]
    }
   ],
   "source": [
    "# Freeze all the parameters in the network\n",
    "for param in model.parameters():\n",
    "    param.requires_grad = False\n",
    "\n",
    "# Check the number of trainable parameters\n",
    "total_number_of_parameters = sum(p.numel() for p in model.parameters() if p.requires_grad)\n",
    "print(\"\\nTotal number of trainable parameters:\", total_number_of_parameters)"
   ]
  },
  {
   "cell_type": "markdown",
   "id": "87d7fe6f-1425-49bc-aa96-9369bbaf1c8d",
   "metadata": {},
   "source": [
    "Since our dataset has 10 install of 1000 classes we have to slightly change the architecture of the model.\n",
    "We replace the fully connected layer at the end with a fully connected layer with only 10 output features."
   ]
  },
  {
   "cell_type": "code",
   "execution_count": 22,
   "id": "bce8a7b8-34d4-40f1-8705-0587b68b9fed",
   "metadata": {},
   "outputs": [
    {
     "name": "stdout",
     "output_type": "stream",
     "text": [
      "fc.weight torch.Size([10, 512])\n",
      "fc.bias torch.Size([10])\n",
      "\n",
      "Total number of trainable parameters: 5130\n"
     ]
    }
   ],
   "source": [
    "# Replace the classifier (fully connected layer) for our task (10 instead of 1000 classes)\n",
    "model.fc = torch.nn.Linear(512, 10)\n",
    "torch.nn.init.xavier_normal_(model.fc.weight)\n",
    "\n",
    "# Check that the new layer is trainable\n",
    "for name, param in model.named_parameters():\n",
    "    if param.requires_grad == True:\n",
    "        print(name, param.size())\n",
    "\n",
    "total_number_of_parameters = sum(p.numel() for p in model.parameters() if p.requires_grad)\n",
    "print(\"\\nTotal number of trainable parameters:\", total_number_of_parameters)"
   ]
  },
  {
   "cell_type": "markdown",
   "id": "6fe880e2-73ae-4d89-bd87-ededf8890a2b",
   "metadata": {},
   "source": [
    "We load the data the same way we did for the example above.\n",
    "It is important that we use the same transform (preprocessing) as original dataset (ImageNet)."
   ]
  },
  {
   "cell_type": "code",
   "execution_count": 23,
   "id": "854ebe0b",
   "metadata": {},
   "outputs": [
    {
     "name": "stdout",
     "output_type": "stream",
     "text": [
      "\n",
      "Number of images in the train dataset 50000\n",
      "Number of batches 250\n",
      "\n",
      "Number of images in the test dataset 10000\n",
      "Number of batches 50\n"
     ]
    }
   ],
   "source": [
    "transform = torchvision.models.ResNet18_Weights.DEFAULT.transforms()\n",
    "# transform = torchvision.transforms.ToTensor()\n",
    "\n",
    "batch_size = 200\n",
    "\n",
    "train_dataset = torchvision.datasets.CIFAR10(root='./data', train=True,\n",
    "                                        download=True, transform=transform)\n",
    "print(\"\\nNumber of images in the train dataset\", len(train_dataset))\n",
    "train_dataloader = torch.utils.data.DataLoader(train_dataset, batch_size=batch_size,\n",
    "                                          shuffle=True, num_workers=8)\n",
    "print(\"Number of batches\", len(train_dataloader))\n",
    "\n",
    "test_dataset = torchvision.datasets.CIFAR10(root='./data', train=False,\n",
    "                                       download=True, transform=transform)\n",
    "print(\"\\nNumber of images in the test dataset\", len(test_dataset))\n",
    "test_dataloader = torch.utils.data.DataLoader(test_dataset, batch_size=batch_size,\n",
    "                                         shuffle=False, num_workers=8)\n",
    "print(\"Number of batches\", len(test_dataloader))\n",
    "\n",
    "# The names of the 10 classes\n",
    "classes = ('plane', 'car', 'bird', 'cat',\n",
    "           'deer', 'dog', 'frog', 'horse', 'ship', 'truck')"
   ]
  },
  {
   "cell_type": "markdown",
   "id": "21923e31-a2dc-4c6e-8b82-04869f6b4181",
   "metadata": {},
   "source": [
    "Let's take a look a the images.\n",
    "The colours look weird because of the normalizations implied in transform.\n",
    "We can fix that by setting `transform = torchvision.transforms.ToTensor()` in the cell above."
   ]
  },
  {
   "cell_type": "code",
   "execution_count": 24,
   "id": "ecf6e07d",
   "metadata": {},
   "outputs": [
    {
     "name": "stderr",
     "output_type": "stream",
     "text": [
      "Clipping input data to the valid range for imshow with RGB data ([0..1] for floats or [0..255] for integers). Got range [-0.95342064..1.9254032].\n",
      "Clipping input data to the valid range for imshow with RGB data ([0..1] for floats or [0..255] for integers). Got range [-1.8952821..2.64].\n",
      "Clipping input data to the valid range for imshow with RGB data ([0..1] for floats or [0..255] for integers). Got range [-1.1075436..1.6988237].\n",
      "Clipping input data to the valid range for imshow with RGB data ([0..1] for floats or [0..255] for integers). Got range [-2.0494049..2.3785625].\n",
      "Clipping input data to the valid range for imshow with RGB data ([0..1] for floats or [0..255] for integers). Got range [-2.0357141..2.3262744].\n",
      "Clipping input data to the valid range for imshow with RGB data ([0..1] for floats or [0..255] for integers). Got range [-2.0836544..2.64].\n",
      "Clipping input data to the valid range for imshow with RGB data ([0..1] for floats or [0..255] for integers). Got range [-2.0665298..1.9908963].\n",
      "Clipping input data to the valid range for imshow with RGB data ([0..1] for floats or [0..255] for integers). Got range [-1.6897851..2.2042704].\n",
      "Clipping input data to the valid range for imshow with RGB data ([0..1] for floats or [0..255] for integers). Got range [-1.980906..2.2914162].\n",
      "Clipping input data to the valid range for imshow with RGB data ([0..1] for floats or [0..255] for integers). Got range [-1.9295317..1.9254032].\n"
     ]
    },
    {
     "data": {
      "image/png": "[encoded data removed]",
      "text/plain": [
       "<Figure size 640x480 with 10 Axes>"
      ]
     },
     "metadata": {},
     "output_type": "display_data"
    }
   ],
   "source": [
    "for data in train_dataloader:\n",
    "    imgs = data[0]\n",
    "    labels = data[1]\n",
    "    n_images = min(10, len(imgs))\n",
    "    fig, axes = plt.subplots(1, n_images)\n",
    "    for i, img in enumerate(torch.squeeze(imgs)[:n_images]):\n",
    "        axes[i].imshow(img.moveaxis(0,2))\n",
    "        axes[i].set_xticks([], [])\n",
    "        axes[i].set_yticks([], [])\n",
    "        axes[i].set_xlabel(classes[labels[i].item()])\n",
    "    plt.show()\n",
    "    break"
   ]
  },
  {
   "cell_type": "markdown",
   "id": "49dc51d1-8bd1-4c41-822e-f168bd9e0fb3",
   "metadata": {},
   "source": [
    "The training loop is the same as for the previous example."
   ]
  },
  {
   "cell_type": "code",
   "execution_count": 25,
   "id": "42ea1a6b",
   "metadata": {},
   "outputs": [
    {
     "name": "stdout",
     "output_type": "stream",
     "text": [
      "Epoch 0\n"
     ]
    },
    {
     "name": "stderr",
     "output_type": "stream",
     "text": [
      "100%|███████████████████████████████████████████████████████████████████████████████████████████████████████| 250/250 [01:09<00:00,  3.61it/s]\n"
     ]
    },
    {
     "name": "stdout",
     "output_type": "stream",
     "text": [
      "Loss 238.80190962553024\n",
      "Epoch 1\n"
     ]
    },
    {
     "name": "stderr",
     "output_type": "stream",
     "text": [
      "100%|███████████████████████████████████████████████████████████████████████████████████████████████████████| 250/250 [01:09<00:00,  3.62it/s]\n"
     ]
    },
    {
     "name": "stdout",
     "output_type": "stream",
     "text": [
      "Loss 171.77042558789253\n",
      "Epoch 2\n"
     ]
    },
    {
     "name": "stderr",
     "output_type": "stream",
     "text": [
      "100%|███████████████████████████████████████████████████████████████████████████████████████████████████████| 250/250 [01:09<00:00,  3.61it/s]\n"
     ]
    },
    {
     "name": "stdout",
     "output_type": "stream",
     "text": [
      "Loss 162.95512300729752\n",
      "Epoch 3\n"
     ]
    },
    {
     "name": "stderr",
     "output_type": "stream",
     "text": [
      "100%|███████████████████████████████████████████████████████████████████████████████████████████████████████| 250/250 [01:09<00:00,  3.59it/s]\n"
     ]
    },
    {
     "name": "stdout",
     "output_type": "stream",
     "text": [
      "Loss 158.27696827054024\n",
      "Epoch 4\n"
     ]
    },
    {
     "name": "stderr",
     "output_type": "stream",
     "text": [
      "100%|███████████████████████████████████████████████████████████████████████████████████████████████████████| 250/250 [01:11<00:00,  3.47it/s]"
     ]
    },
    {
     "name": "stdout",
     "output_type": "stream",
     "text": [
      "Loss 156.03333577513695\n"
     ]
    },
    {
     "name": "stderr",
     "output_type": "stream",
     "text": [
      "\n"
     ]
    }
   ],
   "source": [
    "# Optimize only the classifier\n",
    "optimizer = torch.optim.SGD(model.parameters(), lr=1e-2, momentum=0.9)\n",
    "\n",
    "# Move the model to the device (CPU or GPU)\n",
    "model.to(device)\n",
    "\n",
    "loss_function = torch.nn.CrossEntropyLoss()\n",
    "running_losses = []\n",
    "\n",
    "# The training loop\n",
    "for epoch in range(5):\n",
    "    print(f\"Epoch {epoch}\")\n",
    "    running_loss = 0\n",
    "    for data in tqdm.tqdm(train_dataloader):\n",
    "        imgs = data[0].to(device)\n",
    "        labels = data[1].to(device)\n",
    "        # Reset the gradients\n",
    "        optimizer.zero_grad()\n",
    "        # Forward run throught the network\n",
    "        output = model(imgs)\n",
    "        # Compute the loss\n",
    "        loss = loss_function(output, labels)\n",
    "        # Update the gradients\n",
    "        loss.backward()\n",
    "        # Update the parameters of the network\n",
    "        optimizer.step()\n",
    "\n",
    "        running_loss += loss.item()\n",
    "    running_losses.append(running_loss)\n",
    "    print(\"Loss\", running_loss)"
   ]
  },
  {
   "cell_type": "code",
   "execution_count": 26,
   "id": "83898620",
   "metadata": {},
   "outputs": [
    {
     "data": {
      "image/png": "[encoded data removed]",
      "text/plain": [
       "<Figure size 640x480 with 1 Axes>"
      ]
     },
     "metadata": {},
     "output_type": "display_data"
    }
   ],
   "source": [
    "plt.plot(running_losses)\n",
    "plt.yscale(\"log\")\n",
    "plt.xlabel(\"Epoch\")\n",
    "plt.ylabel(\"Loss\")\n",
    "plt.show()"
   ]
  },
  {
   "cell_type": "markdown",
   "id": "979e7eb8-9506-43b2-8ae8-c2d3adddf81e",
   "metadata": {},
   "source": [
    "To evaluate performance we can calculate how many of the test images are classified correctly."
   ]
  },
  {
   "cell_type": "code",
   "execution_count": 27,
   "id": "01ba4659",
   "metadata": {},
   "outputs": [
    {
     "name": "stderr",
     "output_type": "stream",
     "text": [
      "100%|█████████████████████████████████████████████████████████████████████████████████████████████████████████| 50/50 [00:13<00:00,  3.59it/s]"
     ]
    },
    {
     "name": "stdout",
     "output_type": "stream",
     "text": [
      "Correctly classified numbers in test dataset: 77.97%\n"
     ]
    },
    {
     "name": "stderr",
     "output_type": "stream",
     "text": [
      "\n"
     ]
    }
   ],
   "source": [
    "model.eval()\n",
    "device = torch.device(\"cuda:0\")\n",
    "model.to(device)\n",
    "n_correct = 0 \n",
    "for data in tqdm.tqdm(test_dataloader):\n",
    "    imgs = data[0].to(device)\n",
    "    labels = data[1].to(device)\n",
    "    output = model(imgs)\n",
    "    correct_labels = labels == output.max(dim=1).indices\n",
    "    n_correct += torch.sum(correct_labels).item()\n",
    "    \n",
    "print(f\"Correctly classified numbers in test dataset: {n_correct / len(test_dataset) * 100}%\")"
   ]
  },
  {
   "cell_type": "markdown",
   "id": "3c55a26f-aa4d-4c73-a6e4-f9d3def979b9",
   "metadata": {},
   "source": [
    "# Feedback"
   ]
  },
  {
   "cell_type": "markdown",
   "id": "79391ccb-a828-4503-9ad4-28111546a7c6",
   "metadata": {},
   "source": [
    "https://forms.gle/cPVdqRAySVBLEJj86\n",
    "\n",
    "![QR](QR_code_feedback.png)"
   ]
  },
  {
   "cell_type": "code",
   "execution_count": null,
   "id": "29fbf82d-9a2b-40cf-a05a-080fe620b47f",
   "metadata": {},
   "outputs": [],
   "source": []
  }
 ],
 "metadata": {
  "kernelspec": {
   "display_name": "Python 3 (ipykernel)",
   "language": "python",
   "name": "python3"
  },
  "language_info": {
   "codemirror_mode": {
    "name": "ipython",
    "version": 3
   },
   "file_extension": ".py",
   "mimetype": "text/x-python",
   "name": "python",
   "nbconvert_exporter": "python",
   "pygments_lexer": "ipython3",
   "version": "3.12.3"
  }
 },
 "nbformat": 4,
 "nbformat_minor": 5
}
